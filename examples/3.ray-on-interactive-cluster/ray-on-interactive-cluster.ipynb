{
  "cells": [
    {
      "cell_type": "markdown",
      "source": [
        "# Ray on interactive compute cluster\n",
        "\n",
        "In [ray-on-compute-instance notebook](../1.ray-on-compute-instance/ray-on-compute-instance.ipynb), we learned how to start a local Ray cluster and interactively execute Ray script on compute instance.\n",
        "\n",
        "In [ray-on-compute-cluster](../2.ray-on-compute-cluster/ray-on-compute-cluster.ipynb), we learned how to submit a distributed training job with Ray cluster enabled onto multi-nodes Azure ML compute clusters.\n",
        "\n",
        "In this notebook, we would learn how to combine this 2 scenarios to build an interactive multi-nodes heterogeneous Ray cluster.\n"
      ],
      "metadata": {
        "nteract": {
          "transient": {
            "deleting": false
          }
        }
      }
    },
    {
      "cell_type": "markdown",
      "source": [
        "## Prerequisites\n",
        "To build an interactive multi-nodes heterogeneous Ray cluster, we need one compute instance as head node and one or more cpu/gpu compute clusters as worker nodes.\n",
        "\n",
        "The compute instance and compute cluster are required to be placed in one virtual network and subnet.\n",
        "\n",
        "Please follow [this document](https://learn.microsoft.com/en-us/azure/machine-learning/how-to-secure-training-vnet?view=azureml-api-2&tabs=cli%2Crequired) to setup 1 cpu compute instance and 2 nodes gpu compute cluster."
      ],
      "metadata": {
        "nteract": {
          "transient": {
            "deleting": false
          }
        }
      }
    },
    {
      "cell_type": "markdown",
      "source": [
        "## Install required packages\n",
        "\n",
        "More info about installing Ray could be found [here](https://docs.ray.io/en/latest/ray-overview/installation.html)."
      ],
      "metadata": {
        "nteract": {
          "transient": {
            "deleting": false
          }
        }
      }
    },
    {
      "cell_type": "code",
      "source": [
        "# Get and set python and ray version\r\n",
        "from platform import python_version\r\n",
        "\r\n",
        "python_version = python_version()\r\n",
        "ray_version = '2.4.0'"
      ],
      "outputs": [],
      "execution_count": null,
      "metadata": {
        "jupyter": {
          "source_hidden": false,
          "outputs_hidden": false
        },
        "nteract": {
          "transient": {
            "deleting": false
          }
        }
      }
    },
    {
      "cell_type": "code",
      "source": [
        "%pip install --no-cache-dir \\\n",
        " ../../private_wheel/azure_ai_ml-1.6.0a20230421002-py3-none-any.whl \\\n",
        " 'ray[default, air, tune]==2.4.0' \\\n",
        " gpustat==1.0.0 \\\n",
        " torch \\\n",
        " torchvision"
      ],
      "outputs": [
        {
          "output_type": "stream",
          "name": "stdout",
          "text": "Processing /mnt/batch/tasks/shared/LS_root/mounts/clusters/ray/code/Users/daweil/ray/azureml-insiders/private_wheel/azure_ai_ml-1.6.0a20230421002-py3-none-any.whl\nRequirement already satisfied: ray[air,default,tune]==2.4.0 in /anaconda/envs/azureml_py38_PT_TF/lib/python3.8/site-packages (2.4.0)\nRequirement already satisfied: gpustat==1.0.0 in /anaconda/envs/azureml_py38_PT_TF/lib/python3.8/site-packages (1.0.0)\nRequirement already satisfied: torch in /anaconda/envs/azureml_py38_PT_TF/lib/python3.8/site-packages (1.12.0)\nRequirement already satisfied: torchvision in /anaconda/envs/azureml_py38_PT_TF/lib/python3.8/site-packages (0.13.0)\nRequirement already satisfied: aiosignal in /anaconda/envs/azureml_py38_PT_TF/lib/python3.8/site-packages (from ray[air,default,tune]==2.4.0) (1.3.1)\nRequirement already satisfied: frozenlist in /anaconda/envs/azureml_py38_PT_TF/lib/python3.8/site-packages (from ray[air,default,tune]==2.4.0) (1.3.3)\nRequirement already satisfied: attrs in /anaconda/envs/azureml_py38_PT_TF/lib/python3.8/site-packages (from ray[air,default,tune]==2.4.0) (22.2.0)\nRequirement already satisfied: filelock in /anaconda/envs/azureml_py38_PT_TF/lib/python3.8/site-packages (from ray[air,default,tune]==2.4.0) (3.12.0)\nRequirement already satisfied: grpcio<=1.51.3,>=1.32.0 in /anaconda/envs/azureml_py38_PT_TF/lib/python3.8/site-packages (from ray[air,default,tune]==2.4.0) (1.51.3)\nRequirement already satisfied: numpy>=1.16 in /anaconda/envs/azureml_py38_PT_TF/lib/python3.8/site-packages (from ray[air,default,tune]==2.4.0) (1.23.5)\nRequirement already satisfied: msgpack<2.0.0,>=1.0.0 in /anaconda/envs/azureml_py38_PT_TF/lib/python3.8/site-packages (from ray[air,default,tune]==2.4.0) (1.0.5)\nRequirement already satisfied: pyyaml in /anaconda/envs/azureml_py38_PT_TF/lib/python3.8/site-packages (from ray[air,default,tune]==2.4.0) (6.0)\nRequirement already satisfied: click>=7.0 in /anaconda/envs/azureml_py38_PT_TF/lib/python3.8/site-packages (from ray[air,default,tune]==2.4.0) (8.1.3)\nRequirement already satisfied: protobuf!=3.19.5,>=3.15.3 in /anaconda/envs/azureml_py38_PT_TF/lib/python3.8/site-packages (from ray[air,default,tune]==2.4.0) (3.20.3)\nRequirement already satisfied: jsonschema in /anaconda/envs/azureml_py38_PT_TF/lib/python3.8/site-packages (from ray[air,default,tune]==2.4.0) (4.17.3)\nRequirement already satisfied: requests in /anaconda/envs/azureml_py38_PT_TF/lib/python3.8/site-packages (from ray[air,default,tune]==2.4.0) (2.28.2)\nRequirement already satisfied: virtualenv<20.21.1,>=20.0.24 in /anaconda/envs/azureml_py38_PT_TF/lib/python3.8/site-packages (from ray[air,default,tune]==2.4.0) (20.21.0)\nRequirement already satisfied: starlette in /anaconda/envs/azureml_py38_PT_TF/lib/python3.8/site-packages (from ray[air,default,tune]==2.4.0) (0.26.1)\nRequirement already satisfied: prometheus-client>=0.7.1 in /anaconda/envs/azureml_py38_PT_TF/lib/python3.8/site-packages (from ray[air,default,tune]==2.4.0) (0.16.0)\nRequirement already satisfied: colorful in /anaconda/envs/azureml_py38_PT_TF/lib/python3.8/site-packages (from ray[air,default,tune]==2.4.0) (0.5.5)\nRequirement already satisfied: uvicorn in /anaconda/envs/azureml_py38_PT_TF/lib/python3.8/site-packages (from ray[air,default,tune]==2.4.0) (0.21.1)\nRequirement already satisfied: opencensus in /anaconda/envs/azureml_py38_PT_TF/lib/python3.8/site-packages (from ray[air,default,tune]==2.4.0) (0.11.2)\nRequirement already satisfied: pydantic in /anaconda/envs/azureml_py38_PT_TF/lib/python3.8/site-packages (from ray[air,default,tune]==2.4.0) (1.10.7)\nRequirement already satisfied: tensorboardX>=1.9 in /anaconda/envs/azureml_py38_PT_TF/lib/python3.8/site-packages (from ray[air,default,tune]==2.4.0) (2.6)\nRequirement already satisfied: fastapi in /anaconda/envs/azureml_py38_PT_TF/lib/python3.8/site-packages (from ray[air,default,tune]==2.4.0) (0.95.1)\nRequirement already satisfied: aiohttp>=3.7 in /anaconda/envs/azureml_py38_PT_TF/lib/python3.8/site-packages (from ray[air,default,tune]==2.4.0) (3.8.4)\nRequirement already satisfied: py-spy>=0.2.0 in /anaconda/envs/azureml_py38_PT_TF/lib/python3.8/site-packages (from ray[air,default,tune]==2.4.0) (0.3.14)\nRequirement already satisfied: aiorwlock in /anaconda/envs/azureml_py38_PT_TF/lib/python3.8/site-packages (from ray[air,default,tune]==2.4.0) (1.3.0)\nRequirement already satisfied: aiohttp-cors in /anaconda/envs/azureml_py38_PT_TF/lib/python3.8/site-packages (from ray[air,default,tune]==2.4.0) (0.7.0)\nRequirement already satisfied: pandas>=1.3 in /anaconda/envs/azureml_py38_PT_TF/lib/python3.8/site-packages (from ray[air,default,tune]==2.4.0) (2.0.0)\nRequirement already satisfied: pyarrow>=6.0.1 in /anaconda/envs/azureml_py38_PT_TF/lib/python3.8/site-packages (from ray[air,default,tune]==2.4.0) (9.0.0)\nRequirement already satisfied: tabulate in /anaconda/envs/azureml_py38_PT_TF/lib/python3.8/site-packages (from ray[air,default,tune]==2.4.0) (0.9.0)\nRequirement already satisfied: smart-open in /anaconda/envs/azureml_py38_PT_TF/lib/python3.8/site-packages (from ray[air,default,tune]==2.4.0) (6.3.0)\nRequirement already satisfied: fsspec in /anaconda/envs/azureml_py38_PT_TF/lib/python3.8/site-packages (from ray[air,default,tune]==2.4.0) (2023.4.0)\nRequirement already satisfied: psutil>=5.6.0 in /anaconda/envs/azureml_py38_PT_TF/lib/python3.8/site-packages (from gpustat==1.0.0) (5.9.4)\nRequirement already satisfied: six>=1.7 in /anaconda/envs/azureml_py38_PT_TF/lib/python3.8/site-packages (from gpustat==1.0.0) (1.16.0)\nRequirement already satisfied: nvidia-ml-py<=11.495.46,>=11.450.129 in /anaconda/envs/azureml_py38_PT_TF/lib/python3.8/site-packages (from gpustat==1.0.0) (11.495.46)\nRequirement already satisfied: blessed>=1.17.1 in /anaconda/envs/azureml_py38_PT_TF/lib/python3.8/site-packages (from gpustat==1.0.0) (1.20.0)\nRequirement already satisfied: azure-mgmt-resource<23.0.0,>=3.0.0 in /anaconda/envs/azureml_py38_PT_TF/lib/python3.8/site-packages (from azure-ai-ml==1.6.0a20230421002) (21.2.1)\nRequirement already satisfied: msrest>=0.6.18 in /anaconda/envs/azureml_py38_PT_TF/lib/python3.8/site-packages (from azure-ai-ml==1.6.0a20230421002) (0.7.1)\nRequirement already satisfied: azure-mgmt-core<2.0.0,>=1.3.0 in /anaconda/envs/azureml_py38_PT_TF/lib/python3.8/site-packages (from azure-ai-ml==1.6.0a20230421002) (1.4.0)\nRequirement already satisfied: azure-mgmt-resourcegraph<9.0.0,>=2.0.0 in /anaconda/envs/azureml_py38_PT_TF/lib/python3.8/site-packages (from azure-ai-ml==1.6.0a20230421002) (8.0.0)\nRequirement already satisfied: azure-storage-blob<13.0.0,>=12.10.0 in /anaconda/envs/azureml_py38_PT_TF/lib/python3.8/site-packages (from azure-ai-ml==1.6.0a20230421002) (12.16.0)\nRequirement already satisfied: pyjwt<3.0.0 in /anaconda/envs/azureml_py38_PT_TF/lib/python3.8/site-packages (from azure-ai-ml==1.6.0a20230421002) (2.6.0)\nRequirement already satisfied: azure-core<2.0.0,>=1.23.0 in /anaconda/envs/azureml_py38_PT_TF/lib/python3.8/site-packages (from azure-ai-ml==1.6.0a20230421002) (1.26.4)\nRequirement already satisfied: typing-extensions<5.0.0 in /anaconda/envs/azureml_py38_PT_TF/lib/python3.8/site-packages (from azure-ai-ml==1.6.0a20230421002) (4.5.0)\nRequirement already satisfied: marshmallow<4.0.0,>=3.5 in /anaconda/envs/azureml_py38_PT_TF/lib/python3.8/site-packages (from azure-ai-ml==1.6.0a20230421002) (3.19.0)\nRequirement already satisfied: azure-common<2.0.0,>=1.1 in /anaconda/envs/azureml_py38_PT_TF/lib/python3.8/site-packages (from azure-ai-ml==1.6.0a20230421002) (1.1.28)\nRequirement already satisfied: tqdm<5.0.0 in /anaconda/envs/azureml_py38_PT_TF/lib/python3.8/site-packages (from azure-ai-ml==1.6.0a20230421002) (4.65.0)\nRequirement already satisfied: azure-storage-file-share<13.0.0 in /anaconda/envs/azureml_py38_PT_TF/lib/python3.8/site-packages (from azure-ai-ml==1.6.0a20230421002) (12.12.0)\nRequirement already satisfied: colorama<0.5.0 in /anaconda/envs/azureml_py38_PT_TF/lib/python3.8/site-packages (from azure-ai-ml==1.6.0a20230421002) (0.4.6)\nRequirement already satisfied: pydash<6.0.0 in /anaconda/envs/azureml_py38_PT_TF/lib/python3.8/site-packages (from azure-ai-ml==1.6.0a20230421002) (5.1.2)\nRequirement already satisfied: opencensus-ext-azure<2.0.0 in /anaconda/envs/azureml_py38_PT_TF/lib/python3.8/site-packages (from azure-ai-ml==1.6.0a20230421002) (1.1.9)\nRequirement already satisfied: strictyaml<2.0.0 in /anaconda/envs/azureml_py38_PT_TF/lib/python3.8/site-packages (from azure-ai-ml==1.6.0a20230421002) (1.7.3)\nRequirement already satisfied: isodate in /anaconda/envs/azureml_py38_PT_TF/lib/python3.8/site-packages (from azure-ai-ml==1.6.0a20230421002) (0.6.1)\nRequirement already satisfied: azure-storage-file-datalake<13.0.0 in /anaconda/envs/azureml_py38_PT_TF/lib/python3.8/site-packages (from azure-ai-ml==1.6.0a20230421002) (12.11.0)\nRequirement already satisfied: pillow!=8.3.*,>=5.3.0 in /anaconda/envs/azureml_py38_PT_TF/lib/python3.8/site-packages (from torchvision) (9.5.0)\nRequirement already satisfied: yarl<2.0,>=1.0 in /anaconda/envs/azureml_py38_PT_TF/lib/python3.8/site-packages (from aiohttp>=3.7->ray[air,default,tune]==2.4.0) (1.9.2)\nRequirement already satisfied: multidict<7.0,>=4.5 in /anaconda/envs/azureml_py38_PT_TF/lib/python3.8/site-packages (from aiohttp>=3.7->ray[air,default,tune]==2.4.0) (6.0.4)\nRequirement already satisfied: async-timeout<5.0,>=4.0.0a3 in /anaconda/envs/azureml_py38_PT_TF/lib/python3.8/site-packages (from aiohttp>=3.7->ray[air,default,tune]==2.4.0) (4.0.2)\nRequirement already satisfied: charset-normalizer<4.0,>=2.0 in /anaconda/envs/azureml_py38_PT_TF/lib/python3.8/site-packages (from aiohttp>=3.7->ray[air,default,tune]==2.4.0) (3.1.0)\nRequirement already satisfied: cryptography>=2.1.4 in /anaconda/envs/azureml_py38_PT_TF/lib/python3.8/site-packages (from azure-storage-blob<13.0.0,>=12.10.0->azure-ai-ml==1.6.0a20230421002) (40.0.1)\nRequirement already satisfied: wcwidth>=0.1.4 in /anaconda/envs/azureml_py38_PT_TF/lib/python3.8/site-packages (from blessed>=1.17.1->gpustat==1.0.0) (0.2.6)\nRequirement already satisfied: importlib-resources>=1.4.0 in /anaconda/envs/azureml_py38_PT_TF/lib/python3.8/site-packages (from jsonschema->ray[air,default,tune]==2.4.0) (5.12.0)\nRequirement already satisfied: pkgutil-resolve-name>=1.3.10 in /anaconda/envs/azureml_py38_PT_TF/lib/python3.8/site-packages (from jsonschema->ray[air,default,tune]==2.4.0) (1.3.10)\nRequirement already satisfied: pyrsistent!=0.17.0,!=0.17.1,!=0.17.2,>=0.14.0 in /anaconda/envs/azureml_py38_PT_TF/lib/python3.8/site-packages (from jsonschema->ray[air,default,tune]==2.4.0) (0.19.3)\nRequirement already satisfied: packaging>=17.0 in /anaconda/envs/azureml_py38_PT_TF/lib/python3.8/site-packages (from marshmallow<4.0.0,>=3.5->azure-ai-ml==1.6.0a20230421002) (22.0)\nRequirement already satisfied: requests-oauthlib>=0.5.0 in /anaconda/envs/azureml_py38_PT_TF/lib/python3.8/site-packages (from msrest>=0.6.18->azure-ai-ml==1.6.0a20230421002) (1.3.1)\nRequirement already satisfied: certifi>=2017.4.17 in /anaconda/envs/azureml_py38_PT_TF/lib/python3.8/site-packages (from msrest>=0.6.18->azure-ai-ml==1.6.0a20230421002) (2022.12.7)\nRequirement already satisfied: azure-identity<2.0.0,>=1.5.0 in /anaconda/envs/azureml_py38_PT_TF/lib/python3.8/site-packages (from opencensus-ext-azure<2.0.0->azure-ai-ml==1.6.0a20230421002) (1.12.0)\nRequirement already satisfied: opencensus-context>=0.1.3 in /anaconda/envs/azureml_py38_PT_TF/lib/python3.8/site-packages (from opencensus->ray[air,default,tune]==2.4.0) (0.1.3)\nRequirement already satisfied: google-api-core<3.0.0,>=1.0.0 in /anaconda/envs/azureml_py38_PT_TF/lib/python3.8/site-packages (from opencensus->ray[air,default,tune]==2.4.0) (2.11.0)\nRequirement already satisfied: python-dateutil>=2.8.2 in /anaconda/envs/azureml_py38_PT_TF/lib/python3.8/site-packages (from pandas>=1.3->ray[air,default,tune]==2.4.0) (2.8.2)\nRequirement already satisfied: tzdata>=2022.1 in /anaconda/envs/azureml_py38_PT_TF/lib/python3.8/site-packages (from pandas>=1.3->ray[air,default,tune]==2.4.0) (2023.3)\nRequirement already satisfied: pytz>=2020.1 in /anaconda/envs/azureml_py38_PT_TF/lib/python3.8/site-packages (from pandas>=1.3->ray[air,default,tune]==2.4.0) (2022.7.1)\nRequirement already satisfied: idna<4,>=2.5 in /anaconda/envs/azureml_py38_PT_TF/lib/python3.8/site-packages (from requests->ray[air,default,tune]==2.4.0) (3.4)\nRequirement already satisfied: urllib3<1.27,>=1.21.1 in /anaconda/envs/azureml_py38_PT_TF/lib/python3.8/site-packages (from requests->ray[air,default,tune]==2.4.0) (1.26.15)\nRequirement already satisfied: platformdirs<4,>=2.4 in /anaconda/envs/azureml_py38_PT_TF/lib/python3.8/site-packages (from virtualenv<20.21.1,>=20.0.24->ray[air,default,tune]==2.4.0) (3.2.0)\nRequirement already satisfied: distlib<1,>=0.3.6 in /anaconda/envs/azureml_py38_PT_TF/lib/python3.8/site-packages (from virtualenv<20.21.1,>=20.0.24->ray[air,default,tune]==2.4.0) (0.3.6)\nRequirement already satisfied: anyio<5,>=3.4.0 in /anaconda/envs/azureml_py38_PT_TF/lib/python3.8/site-packages (from starlette->ray[air,default,tune]==2.4.0) (3.6.2)\nRequirement already satisfied: h11>=0.8 in /anaconda/envs/azureml_py38_PT_TF/lib/python3.8/site-packages (from uvicorn->ray[air,default,tune]==2.4.0) (0.14.0)\nRequirement already satisfied: sniffio>=1.1 in /anaconda/envs/azureml_py38_PT_TF/lib/python3.8/site-packages (from anyio<5,>=3.4.0->starlette->ray[air,default,tune]==2.4.0) (1.3.0)\nRequirement already satisfied: msal<2.0.0,>=1.12.0 in /anaconda/envs/azureml_py38_PT_TF/lib/python3.8/site-packages (from azure-identity<2.0.0,>=1.5.0->opencensus-ext-azure<2.0.0->azure-ai-ml==1.6.0a20230421002) (1.21.0)\nRequirement already satisfied: msal-extensions<2.0.0,>=0.3.0 in /anaconda/envs/azureml_py38_PT_TF/lib/python3.8/site-packages (from azure-identity<2.0.0,>=1.5.0->opencensus-ext-azure<2.0.0->azure-ai-ml==1.6.0a20230421002) (1.0.0)\nRequirement already satisfied: cffi>=1.12 in /anaconda/envs/azureml_py38_PT_TF/lib/python3.8/site-packages (from cryptography>=2.1.4->azure-storage-blob<13.0.0,>=12.10.0->azure-ai-ml==1.6.0a20230421002) (1.15.1)\nRequirement already satisfied: google-auth<3.0dev,>=2.14.1 in /anaconda/envs/azureml_py38_PT_TF/lib/python3.8/site-packages (from google-api-core<3.0.0,>=1.0.0->opencensus->ray[air,default,tune]==2.4.0) (2.17.2)\nRequirement already satisfied: googleapis-common-protos<2.0dev,>=1.56.2 in /anaconda/envs/azureml_py38_PT_TF/lib/python3.8/site-packages (from google-api-core<3.0.0,>=1.0.0->opencensus->ray[air,default,tune]==2.4.0) (1.59.0)\nRequirement already satisfied: zipp>=3.1.0 in /anaconda/envs/azureml_py38_PT_TF/lib/python3.8/site-packages (from importlib-resources>=1.4.0->jsonschema->ray[air,default,tune]==2.4.0) (3.15.0)\nRequirement already satisfied: oauthlib>=3.0.0 in /anaconda/envs/azureml_py38_PT_TF/lib/python3.8/site-packages (from requests-oauthlib>=0.5.0->msrest>=0.6.18->azure-ai-ml==1.6.0a20230421002) (3.2.2)\nRequirement already satisfied: pycparser in /anaconda/envs/azureml_py38_PT_TF/lib/python3.8/site-packages (from cffi>=1.12->cryptography>=2.1.4->azure-storage-blob<13.0.0,>=12.10.0->azure-ai-ml==1.6.0a20230421002) (2.21)\nRequirement already satisfied: cachetools<6.0,>=2.0.0 in /anaconda/envs/azureml_py38_PT_TF/lib/python3.8/site-packages (from google-auth<3.0dev,>=2.14.1->google-api-core<3.0.0,>=1.0.0->opencensus->ray[air,default,tune]==2.4.0) (5.3.0)\nRequirement already satisfied: pyasn1-modules>=0.2.1 in /anaconda/envs/azureml_py38_PT_TF/lib/python3.8/site-packages (from google-auth<3.0dev,>=2.14.1->google-api-core<3.0.0,>=1.0.0->opencensus->ray[air,default,tune]==2.4.0) (0.2.8)\nRequirement already satisfied: rsa<5,>=3.1.4 in /anaconda/envs/azureml_py38_PT_TF/lib/python3.8/site-packages (from google-auth<3.0dev,>=2.14.1->google-api-core<3.0.0,>=1.0.0->opencensus->ray[air,default,tune]==2.4.0) (4.9)\nRequirement already satisfied: portalocker<3,>=1.0 in /anaconda/envs/azureml_py38_PT_TF/lib/python3.8/site-packages (from msal-extensions<2.0.0,>=0.3.0->azure-identity<2.0.0,>=1.5.0->opencensus-ext-azure<2.0.0->azure-ai-ml==1.6.0a20230421002) (2.7.0)\nRequirement already satisfied: pyasn1<0.5.0,>=0.4.6 in /anaconda/envs/azureml_py38_PT_TF/lib/python3.8/site-packages (from pyasn1-modules>=0.2.1->google-auth<3.0dev,>=2.14.1->google-api-core<3.0.0,>=1.0.0->opencensus->ray[air,default,tune]==2.4.0) (0.4.8)\nazure-ai-ml is already installed with the same version as the provided wheel. Use --force-reinstall to force an installation of the wheel.\nNote: you may need to restart the kernel to use updated packages.\n"
        }
      ],
      "execution_count": 1,
      "metadata": {
        "gather": {
          "logged": 1682652290471
        },
        "jupyter": {
          "outputs_hidden": false,
          "source_hidden": false
        },
        "nteract": {
          "transient": {
            "deleting": false
          }
        }
      }
    },
    {
      "cell_type": "markdown",
      "source": [
        "## Start a Ray cluster on compute instance\n",
        "\n",
        "We would use the current compute instance as head node of the Ray cluster we are trying to build."
      ],
      "metadata": {
        "nteract": {
          "transient": {
            "deleting": false
          }
        }
      }
    },
    {
      "cell_type": "code",
      "source": [
        "import ray\n",
        "\n",
        "dashboard_port = 8266\n",
        "\n",
        "# shutdown existing cluster\n",
        "ray.shutdown()\n",
        "\n",
        "ray_instance = ray.init(\n",
        "    include_dashboard= True,\n",
        "    dashboard_port=dashboard_port,\n",
        ")\n",
        "ray_instance"
      ],
      "outputs": [
        {
          "output_type": "stream",
          "name": "stderr",
          "text": "/anaconda/envs/azureml_py38_PT_TF/lib/python3.8/site-packages/tqdm/auto.py:21: TqdmWarning: IProgress not found. Please update jupyter and ipywidgets. See https://ipywidgets.readthedocs.io/en/stable/user_install.html\n  from .autonotebook import tqdm as notebook_tqdm\n2023-04-28 03:24:52,857\tINFO worker.py:1616 -- Started a local Ray instance. View the dashboard at \u001b[1m\u001b[32mhttp://127.0.0.1:8266 \u001b[39m\u001b[22m\n"
        },
        {
          "output_type": "execute_result",
          "execution_count": 2,
          "data": {
            "text/plain": "RayContext(dashboard_url='127.0.0.1:8266', python_version='3.8.5', ray_version='2.4.0', ray_commit='4479f66d4db967d3c9dd0af2572061276ba926ba', address_info={'node_ip_address': '10.0.0.12', 'raylet_ip_address': '10.0.0.12', 'redis_address': None, 'object_store_address': '/tmp/ray/session_2023-04-28_03-24-50_402226_465580/sockets/plasma_store', 'raylet_socket_name': '/tmp/ray/session_2023-04-28_03-24-50_402226_465580/sockets/raylet', 'webui_url': '127.0.0.1:8266', 'session_dir': '/tmp/ray/session_2023-04-28_03-24-50_402226_465580', 'metrics_export_port': 60539, 'gcs_address': '10.0.0.12:45365', 'address': '10.0.0.12:45365', 'dashboard_agent_listen_port': 52365, 'node_id': '9211736e69acef7cd83ab50236b67a2a302799b1a67f4886a1bc676f'})",
            "text/html": "<div>\n    <div style=\"margin-left: 50px;display: flex;flex-direction: row;align-items: center\">\n        <h3 style=\"color: var(--jp-ui-font-color0)\">Ray</h3>\n        <svg version=\"1.1\" id=\"ray\" width=\"3em\" viewBox=\"0 0 144.5 144.6\" style=\"margin-left: 3em;margin-right: 3em\">\n            <g id=\"layer-1\">\n                <path fill=\"#00a2e9\" class=\"st0\" d=\"M97.3,77.2c-3.8-1.1-6.2,0.9-8.3,5.1c-3.5,6.8-9.9,9.9-17.4,9.6S58,88.1,54.8,81.2c-1.4-3-3-4-6.3-4.1\n                    c-5.6-0.1-9.9,0.1-13.1,6.4c-3.8,7.6-13.6,10.2-21.8,7.6C5.2,88.4-0.4,80.5,0,71.7c0.1-8.4,5.7-15.8,13.8-18.2\n                    c8.4-2.6,17.5,0.7,22.3,8c1.3,1.9,1.3,5.2,3.6,5.6c3.9,0.6,8,0.2,12,0.2c1.8,0,1.9-1.6,2.4-2.8c3.5-7.8,9.7-11.8,18-11.9\n                    c8.2-0.1,14.4,3.9,17.8,11.4c1.3,2.8,2.9,3.6,5.7,3.3c1-0.1,2,0.1,3,0c2.8-0.5,6.4,1.7,8.1-2.7s-2.3-5.5-4.1-7.5\n                    c-5.1-5.7-10.9-10.8-16.1-16.3C84,38,81.9,37.1,78,38.3C66.7,42,56.2,35.7,53,24.1C50.3,14,57.3,2.8,67.7,0.5\n                    C78.4-2,89,4.7,91.5,15.3c0.1,0.3,0.1,0.5,0.2,0.8c0.7,3.4,0.7,6.9-0.8,9.8c-1.7,3.2-0.8,5,1.5,7.2c6.7,6.5,13.3,13,19.8,19.7\n                    c1.8,1.8,3,2.1,5.5,1.2c9.1-3.4,17.9-0.6,23.4,7c4.8,6.9,4.6,16.1-0.4,22.9c-5.4,7.2-14.2,9.9-23.1,6.5c-2.3-0.9-3.5-0.6-5.1,1.1\n                    c-6.7,6.9-13.6,13.7-20.5,20.4c-1.8,1.8-2.5,3.2-1.4,5.9c3.5,8.7,0.3,18.6-7.7,23.6c-7.9,5-18.2,3.8-24.8-2.9\n                    c-6.4-6.4-7.4-16.2-2.5-24.3c4.9-7.8,14.5-11,23.1-7.8c3,1.1,4.7,0.5,6.9-1.7C91.7,98.4,98,92.3,104.2,86c1.6-1.6,4.1-2.7,2.6-6.2\n                    c-1.4-3.3-3.8-2.5-6.2-2.6C99.8,77.2,98.9,77.2,97.3,77.2z M72.1,29.7c5.5,0.1,9.9-4.3,10-9.8c0-0.1,0-0.2,0-0.3\n                    C81.8,14,77,9.8,71.5,10.2c-5,0.3-9,4.2-9.3,9.2c-0.2,5.5,4,10.1,9.5,10.3C71.8,29.7,72,29.7,72.1,29.7z M72.3,62.3\n                    c-5.4-0.1-9.9,4.2-10.1,9.7c0,0.2,0,0.3,0,0.5c0.2,5.4,4.5,9.7,9.9,10c5.1,0.1,9.9-4.7,10.1-9.8c0.2-5.5-4-10-9.5-10.3\n                    C72.6,62.3,72.4,62.3,72.3,62.3z M115,72.5c0.1,5.4,4.5,9.7,9.8,9.9c5.6-0.2,10-4.8,10-10.4c-0.2-5.4-4.6-9.7-10-9.7\n                    c-5.3-0.1-9.8,4.2-9.9,9.5C115,72.1,115,72.3,115,72.5z M19.5,62.3c-5.4,0.1-9.8,4.4-10,9.8c-0.1,5.1,5.2,10.4,10.2,10.3\n                    c5.6-0.2,10-4.9,9.8-10.5c-0.1-5.4-4.5-9.7-9.9-9.6C19.6,62.3,19.5,62.3,19.5,62.3z M71.8,134.6c5.9,0.2,10.3-3.9,10.4-9.6\n                    c0.5-5.5-3.6-10.4-9.1-10.8c-5.5-0.5-10.4,3.6-10.8,9.1c0,0.5,0,0.9,0,1.4c-0.2,5.3,4,9.8,9.3,10\n                    C71.6,134.6,71.7,134.6,71.8,134.6z\"/>\n            </g>\n        </svg>\n        <table>\n            <tr>\n                <td style=\"text-align: left\"><b>Python version:</b></td>\n                <td style=\"text-align: left\"><b>3.8.5</b></td>\n            </tr>\n            <tr>\n                <td style=\"text-align: left\"><b>Ray version:</b></td>\n                <td style=\"text-align: left\"><b> 2.4.0</b></td>\n            </tr>\n            <tr>\n    <td style=\"text-align: left\"><b>Dashboard:</b></td>\n    <td style=\"text-align: left\"><b><a href=\"http://127.0.0.1:8266\" target=\"_blank\">http://127.0.0.1:8266</a></b></td>\n</tr>\n\n        </table>\n    </div>\n</div>\n"
          },
          "metadata": {}
        }
      ],
      "execution_count": 2,
      "metadata": {
        "gather": {
          "logged": 1682652293991
        }
      }
    },
    {
      "cell_type": "markdown",
      "source": [
        "## Attach worker nodes using compute cluster\n",
        "\n",
        "After head node started, we can submit a worker nodes only job by passing the head node address."
      ],
      "metadata": {
        "nteract": {
          "transient": {
            "deleting": false
          }
        }
      }
    },
    {
      "cell_type": "markdown",
      "source": [
        "### Import required libraries"
      ],
      "metadata": {
        "nteract": {
          "transient": {
            "deleting": false
          }
        }
      }
    },
    {
      "cell_type": "code",
      "source": [
        "from azure.identity import DefaultAzureCredential\n",
        "\n",
        "from azure.ai.ml import MLClient, command\n",
        "from azure.ai.ml.entities import Environment"
      ],
      "outputs": [],
      "execution_count": 3,
      "metadata": {
        "gather": {
          "logged": 1682652298977
        },
        "jupyter": {
          "outputs_hidden": false,
          "source_hidden": false
        },
        "nteract": {
          "transient": {
            "deleting": false
          }
        }
      }
    },
    {
      "cell_type": "markdown",
      "source": [
        "### Connect to workspace using DefaultAzureCredential\n",
        "\n",
        "`DefaultAzureCredential` should be capable of handling most Azure SDK authentication scenarios. \n"
      ],
      "metadata": {
        "nteract": {
          "transient": {
            "deleting": false
          }
        }
      }
    },
    {
      "cell_type": "code",
      "source": [
        "credential = DefaultAzureCredential()\n",
        "ml_client = None\n",
        "try:\n",
        "    ml_client = MLClient.from_config(credential)\n",
        "    workspace = ml_client.workspace_name\n",
        "    subscription_id = ml_client.workspaces.get(workspace).id.split(\"/\")[2]\n",
        "    resource_group = ml_client.workspaces.get(workspace).resource_group\n",
        "except Exception as ex:\n",
        "    print(ex)\n",
        "    # Enter details of your AML workspace\n",
        "    subscription_id = \"<SUBSCRIPTION_ID>\"\n",
        "    resource_group = \"<RESOURCE_GROUP>\"\n",
        "    workspace = \"<AML_WORKSPACE_NAME>\"\n",
        "    ml_client = MLClient(credential, subscription_id, resource_group, workspace)"
      ],
      "outputs": [
        {
          "output_type": "stream",
          "name": "stderr",
          "text": "Found the config file in: /config.json\nClass FeatureStoreOperations: This is an experimental class, and may change at any time. Please see https://aka.ms/azuremlexperimental for more information.\nClass FeatureSetOperations: This is an experimental class, and may change at any time. Please see https://aka.ms/azuremlexperimental for more information.\nClass FeatureStoreEntityOperations: This is an experimental class, and may change at any time. Please see https://aka.ms/azuremlexperimental for more information.\n"
        }
      ],
      "execution_count": 4,
      "metadata": {
        "gather": {
          "logged": 1682652299905
        },
        "jupyter": {
          "outputs_hidden": false,
          "source_hidden": false
        },
        "nteract": {
          "transient": {
            "deleting": false
          }
        }
      }
    },
    {
      "cell_type": "markdown",
      "source": [
        "## Build environment\r\n",
        "\r\n",
        "We would use Azure ML image and a conda yaml file to build an environment. More info about how to build environment could be found [here](https://learn.microsoft.com/en-us/azure/machine-learning/how-to-manage-environments-v2?view=azureml-api-2&tabs=python).\r\n",
        "\r\n",
        "As Ray requires exact version match of both `python` and `ray`, let's generate a `conda.yml` file matches current kernel.\r\n"
      ],
      "metadata": {
        "nteract": {
          "transient": {
            "deleting": false
          }
        }
      }
    },
    {
      "cell_type": "code",
      "source": [
        "import yaml\r\n",
        "from platform import python_version\r\n",
        "\r\n",
        "# Get and set python and ray version\r\n",
        "python_version = python_version()\r\n",
        "ray_version = '2.4.0'\r\n",
        "\r\n",
        "conda = yaml.load(f\"\"\"\r\n",
        "    name: ray-environment\r\n",
        "    dependencies:\r\n",
        "    - python={python_version}\r\n",
        "    - pip:\r\n",
        "        - ray[default, tune]=={ray_version}\r\n",
        "        - torch\r\n",
        "        - torchvision\r\n",
        "\"\"\", Loader=yaml.CLoader)\r\n",
        "\r\n",
        "# Write to conda.yml file\r\n",
        "with open('conda.yml', 'w') as conda_file:\r\n",
        "    yaml.dump(conda, conda_file, default_flow_style=False)\r\n",
        "\r\n",
        "\r\n",
        "# Build environment using AzureML image and conda.yml we built\r\n",
        "environment=Environment(\r\n",
        "    image=\"mcr.microsoft.com/azureml/openmpi4.1.0-cuda11.3-cudnn8-ubuntu20.04\",\r\n",
        "    conda_file=\"conda.yml\"\r\n",
        ")\r\n"
      ],
      "outputs": [],
      "execution_count": 5,
      "metadata": {
        "jupyter": {
          "source_hidden": false,
          "outputs_hidden": false
        },
        "nteract": {
          "transient": {
            "deleting": false
          }
        },
        "gather": {
          "logged": 1682652300112
        }
      }
    },
    {
      "cell_type": "markdown",
      "source": [
        "### Configure and Run Command\n",
        "In this section we will be configuring and running a `Command` job.\n",
        "\n",
        "The `command` allows user to configure the following key aspects.\n",
        "- `command` - This is the command that needs to be run. In this example, we would execute `sleep infinity` which would block the job to complete.\n",
        "- `environment` - This is the environment needed for the command to run. In this example, we would use the environment we just build.\n",
        "- `compute` - The compute on which the command will run. In this example, we specify the compute we created in the same vnet of current compute instance.\n",
        "- `instance_count` - The number of nodes to use for the job. In this example, we would scale `2` nodes.\n",
        "- `distribution` - Distribution configuration for distributed training scenarios. In this example, we would set it to `ray`. Azure ML job engine would setup Ray cluster automatically.\n",
        "  - `port` - \\[Optional\\] The port of the head ray process. Default is `6379`\n",
        "  - `address` - \\[Optional\\] The address of Ray head node.\n",
        "  - `worker_node_additional_args` - \\[Optional\\] Additional arguments passed to ray start in worker node."
      ],
      "metadata": {
        "nteract": {
          "transient": {
            "deleting": false
          }
        }
      }
    },
    {
      "cell_type": "code",
      "source": [
        "job = command(\n",
        "    experiment_name=\"mnist_pytorch\",\n",
        "    command=\"sleep infinity\",\n",
        "    environment=environment,\n",
        "    compute=\"gpu-cluster\",\n",
        "    instance_count=2,  # In this, only 2 node cluster was created.\n",
        "    distribution={\n",
        "        \"type\": \"ray\",\n",
        "        \"address\": ray_instance.address_info[\"address\"], # [Optional] The address of ray head node\n",
        "        # \"worker_node_additional_args\": \"--verbose\", # [Optional] Additional arguments passed to ray start in head node.\n",
        "    },\n",
        ")"
      ],
      "outputs": [
        {
          "output_type": "stream",
          "name": "stderr",
          "text": "Field 'None': This is an experimental field, and may change at any time. Please see https://aka.ms/azuremlexperimental for more information.\nClass RayDistributionSchema: This is an experimental class, and may change at any time. Please see https://aka.ms/azuremlexperimental for more information.\nClass RayDistribution: This is an experimental class, and may change at any time. Please see https://aka.ms/azuremlexperimental for more information.\n"
        }
      ],
      "execution_count": 6,
      "metadata": {
        "gather": {
          "logged": 1682652300330
        },
        "jupyter": {
          "outputs_hidden": false,
          "source_hidden": false
        },
        "nteract": {
          "transient": {
            "deleting": false
          }
        }
      }
    },
    {
      "cell_type": "markdown",
      "source": [
        "### Submit the job\n",
        "\n",
        "By submitting the command job, Azure ML would scale up the compute cluster and connect to the head node."
      ],
      "metadata": {
        "nteract": {
          "transient": {
            "deleting": false
          }
        }
      }
    },
    {
      "cell_type": "code",
      "source": [
        "active_job = ml_client.jobs.create_or_update(job)\n",
        "\n",
        "active_job"
      ],
      "outputs": [
        {
          "output_type": "stream",
          "name": "stderr",
          "text": "Field 'distribution': This is an experimental field, and may change at any time. Please see https://aka.ms/azuremlexperimental for more information.\n"
        },
        {
          "output_type": "execute_result",
          "execution_count": 7,
          "data": {
            "text/plain": "Command({'parameters': {}, 'init': False, 'name': 'busy_fish_kybk6hbkzy', 'type': 'command', 'status': 'Starting', 'log_files': None, 'description': None, 'tags': {}, 'properties': {'_azureml.ComputeTargetType': 'amlctrain'}, 'print_as_yaml': True, 'id': '/subscriptions/381b38e9-9840-4719-a5a0-61d9585e1e91/resourceGroups/daweil_canary/providers/Microsoft.MachineLearningServices/workspaces/daweil_canary/jobs/busy_fish_kybk6hbkzy', 'Resource__source_path': None, 'base_path': '/mnt/batch/tasks/shared/LS_root/mounts/clusters/ray/code/Users/daweil/ray/azureml-insiders/examples/3.ray-on-interactive-cluster', 'creation_context': <azure.ai.ml.entities._system_data.SystemData object at 0x7fe30820cd00>, 'serialize': <msrest.serialization.Serializer object at 0x7fe307841d30>, 'allowed_keys': {}, 'key_restriction': False, 'logger': <Logger attr_dict (WARNING)>, 'display_name': 'busy_fish_kybk6hbkzy', 'experiment_name': 'mnist_pytorch', 'compute': 'gpu-cluster', 'services': {'Tracking': {'endpoint': 'azureml://eastus2euap.api.azureml.ms/mlflow/v1.0/subscriptions/381b38e9-9840-4719-a5a0-61d9585e1e91/resourceGroups/daweil_canary/providers/Microsoft.MachineLearningServices/workspaces/daweil_canary?', 'type': 'Tracking'}, 'Studio': {'endpoint': 'https://ml.azure.com/runs/busy_fish_kybk6hbkzy?wsid=/subscriptions/381b38e9-9840-4719-a5a0-61d9585e1e91/resourcegroups/daweil_canary/workspaces/daweil_canary&tid=72f988bf-86f1-41af-91ab-2d7cd011db47', 'type': 'Studio'}}, 'comment': None, 'job_inputs': {}, 'job_outputs': {'default': {'type': 'uri_folder', 'path': 'azureml://datastores/workspaceartifactstore/ExperimentRun/dcid.busy_fish_kybk6hbkzy', 'mode': 'rw_mount'}}, 'inputs': {}, 'outputs': {'default': <azure.ai.ml.entities._job.pipeline._io.base.NodeOutput object at 0x7fe307841a60>}, 'component': CommandComponent({'intellectual_property': None, 'auto_increment_version': True, 'source': 'REMOTE.WORKSPACE.JOB', 'is_anonymous': False, 'name': 'busy_fish_kybk6hbkzy', 'description': None, 'tags': {}, 'properties': {}, 'print_as_yaml': True, 'id': None, 'Resource__source_path': None, 'base_path': PosixPath('.'), 'creation_context': <azure.ai.ml.entities._system_data.SystemData object at 0x7fe30820cd00>, 'serialize': <msrest.serialization.Serializer object at 0x7fe3078411c0>, 'command': 'sleep infinity', 'code': None, 'environment_variables': {}, 'environment': '/subscriptions/381b38e9-9840-4719-a5a0-61d9585e1e91/resourceGroups/daweil_canary/providers/Microsoft.MachineLearningServices/workspaces/daweil_canary/environments/CliV2AnonymousEnvironment/versions/8d12d9539752c13b785899a963e88912', 'distribution': <azure.ai.ml.entities._job.distribution.RayDistribution object at 0x7fe307841c40>, 'resources': None, 'queue_settings': None, 'version': None, 'latest_version': None, 'schema': None, 'type': 'command', 'display_name': 'busy_fish_kybk6hbkzy', 'is_deterministic': True, 'inputs': {}, 'outputs': {'default': {'type': 'uri_folder', 'path': 'azureml://datastores/workspaceartifactstore/ExperimentRun/dcid.busy_fish_kybk6hbkzy', 'mode': 'rw_mount'}}, 'yaml_str': None, 'other_parameter': {'status': 'Starting', 'parameters': {}}}), 'referenced_control_flow_node_instance_id': None, 'kwargs': {'services': {'Tracking': {'endpoint': 'azureml://eastus2euap.api.azureml.ms/mlflow/v1.0/subscriptions/381b38e9-9840-4719-a5a0-61d9585e1e91/resourceGroups/daweil_canary/providers/Microsoft.MachineLearningServices/workspaces/daweil_canary?', 'type': 'Tracking'}, 'Studio': {'endpoint': 'https://ml.azure.com/runs/busy_fish_kybk6hbkzy?wsid=/subscriptions/381b38e9-9840-4719-a5a0-61d9585e1e91/resourcegroups/daweil_canary/workspaces/daweil_canary&tid=72f988bf-86f1-41af-91ab-2d7cd011db47', 'type': 'Studio'}}, 'status': 'Starting', 'creation_context': <azure.ai.ml.entities._system_data.SystemData object at 0x7fe30820cd00>}, 'instance_id': 'cc97cc9a-ab1a-430c-8d5e-6f3d7e80b590', 'source': 'BUILDER', 'validate_required_input_not_provided': True, 'limits': None, 'identity': None, 'distribution': <azure.ai.ml.entities._job.distribution.RayDistribution object at 0x7fe307841c40>, 'environment_variables': {}, 'environment': 'CliV2AnonymousEnvironment:8d12d9539752c13b785899a963e88912', 'resources': {'instance_count': 2, 'shm_size': '2g'}, 'queue_settings': None, 'swept': False})",
            "text/html": "<table style=\"width:100%\"><tr><th>Experiment</th><th>Name</th><th>Type</th><th>Status</th><th>Details Page</th></tr><tr><td>mnist_pytorch</td><td>busy_fish_kybk6hbkzy</td><td>command</td><td>Starting</td><td><a href=\"https://ml.azure.com/runs/busy_fish_kybk6hbkzy?wsid=/subscriptions/381b38e9-9840-4719-a5a0-61d9585e1e91/resourcegroups/daweil_canary/workspaces/daweil_canary&amp;tid=72f988bf-86f1-41af-91ab-2d7cd011db47\" target=\"_blank\" rel=\"noopener\">Link to Azure Machine Learning studio</a></td></tr></table>"
          },
          "metadata": {}
        }
      ],
      "execution_count": 7,
      "metadata": {
        "gather": {
          "logged": 1682652313955
        },
        "jupyter": {
          "outputs_hidden": false,
          "source_hidden": false
        },
        "nteract": {
          "transient": {
            "deleting": false
          }
        }
      }
    },
    {
      "cell_type": "markdown",
      "source": [
        "## Prepare the training script\n",
        "We would continue to use the same PyTorch example from Ray:\n",
        "[https://github.com/ray-project/ray/blob/master/python/ray/tune/examples/mnist_pytorch.py](https://github.com/ray-project/ray/blob/master/python/ray/tune/examples/mnist_pytorch.py)\n",
        "\n",
        "Script is downloaded into [src/mnist_pytorch.py](./src/mnist_pytorch.py)\n",
        "\n",
        "We would run the application _interactively_ and see the output in real time."
      ],
      "metadata": {
        "nteract": {
          "transient": {
            "deleting": false
          }
        }
      }
    },
    {
      "cell_type": "code",
      "source": [
        "%run src/mnist_pytorch.py --cuda"
      ],
      "outputs": [
        {
          "output_type": "display_data",
          "data": {
            "text/plain": "<IPython.core.display.HTML object>",
            "text/html": "<div class=\"tuneStatus\">\n  <div style=\"display: flex;flex-direction: row\">\n    <div style=\"display: flex;flex-direction: column;\">\n      <h3>Tune Status</h3>\n      <table>\n<tbody>\n<tr><td>Current time:</td><td>2023-04-28 03:53:15</td></tr>\n<tr><td>Running for: </td><td>00:28:00.61        </td></tr>\n<tr><td>Memory:      </td><td>5.7/27.4 GiB       </td></tr>\n</tbody>\n</table>\n    </div>\n    <div class=\"vDivider\"></div>\n    <div class=\"systemInfo\">\n      <h3>System Info</h3>\n      Using AsyncHyperBand: num_stopped=46<br>Bracket: Iter 64.000: 0.9109375000000001 | Iter 16.000: 0.8421875 | Iter 4.000: 0.440625 | Iter 1.000: 0.1484375<br>Logical resource usage: 0/16 CPUs, 0/2 GPUs (0.0/2.0 accelerator_type:P40)\n    </div>\n    \n  </div>\n  <div class=\"hDivider\"></div>\n  <div class=\"trialStatus\">\n    <h3>Trial Status</h3>\n    <table>\n<thead>\n<tr><th>Trial name             </th><th>status    </th><th>loc         </th><th style=\"text-align: right;\">         lr</th><th style=\"text-align: right;\">  momentum</th><th style=\"text-align: right;\">     acc</th><th style=\"text-align: right;\">  iter</th><th style=\"text-align: right;\">  total time (s)</th></tr>\n</thead>\n<tbody>\n<tr><td>train_mnist_4a723_00000</td><td>TERMINATED</td><td>10.0.0.4:211</td><td style=\"text-align: right;\">0.000317946</td><td style=\"text-align: right;\">  0.436329</td><td style=\"text-align: right;\">0.175   </td><td style=\"text-align: right;\">   100</td><td style=\"text-align: right;\">       33.2725  </td></tr>\n<tr><td>train_mnist_4a723_00001</td><td>TERMINATED</td><td>10.0.0.5:207</td><td style=\"text-align: right;\">0.00123547 </td><td style=\"text-align: right;\">  0.61251 </td><td style=\"text-align: right;\">0.065625</td><td style=\"text-align: right;\">     1</td><td style=\"text-align: right;\">        3.88125 </td></tr>\n<tr><td>train_mnist_4a723_00002</td><td>TERMINATED</td><td>10.0.0.5:207</td><td style=\"text-align: right;\">0.000565768</td><td style=\"text-align: right;\">  0.477196</td><td style=\"text-align: right;\">0.0875  </td><td style=\"text-align: right;\">     4</td><td style=\"text-align: right;\">        1.14075 </td></tr>\n<tr><td>train_mnist_4a723_00003</td><td>TERMINATED</td><td>10.0.0.5:207</td><td style=\"text-align: right;\">0.00843014 </td><td style=\"text-align: right;\">  0.381995</td><td style=\"text-align: right;\">0.86875 </td><td style=\"text-align: right;\">   100</td><td style=\"text-align: right;\">       27.159   </td></tr>\n<tr><td>train_mnist_4a723_00004</td><td>TERMINATED</td><td>10.0.0.4:211</td><td style=\"text-align: right;\">0.000238998</td><td style=\"text-align: right;\">  0.889096</td><td style=\"text-align: right;\">0.040625</td><td style=\"text-align: right;\">     1</td><td style=\"text-align: right;\">        0.329112</td></tr>\n<tr><td>train_mnist_4a723_00005</td><td>TERMINATED</td><td>10.0.0.4:211</td><td style=\"text-align: right;\">0.00758023 </td><td style=\"text-align: right;\">  0.647785</td><td style=\"text-align: right;\">0.903125</td><td style=\"text-align: right;\">   100</td><td style=\"text-align: right;\">       27.8633  </td></tr>\n<tr><td>train_mnist_4a723_00006</td><td>TERMINATED</td><td>10.0.0.5:207</td><td style=\"text-align: right;\">0.00297821 </td><td style=\"text-align: right;\">  0.534108</td><td style=\"text-align: right;\">0.121875</td><td style=\"text-align: right;\">     1</td><td style=\"text-align: right;\">        0.311179</td></tr>\n<tr><td>train_mnist_4a723_00007</td><td>TERMINATED</td><td>10.0.0.5:207</td><td style=\"text-align: right;\">0.00743872 </td><td style=\"text-align: right;\">  0.479855</td><td style=\"text-align: right;\">0.428125</td><td style=\"text-align: right;\">     4</td><td style=\"text-align: right;\">        1.13743 </td></tr>\n<tr><td>train_mnist_4a723_00008</td><td>TERMINATED</td><td>10.0.0.5:207</td><td style=\"text-align: right;\">0.000120783</td><td style=\"text-align: right;\">  0.240711</td><td style=\"text-align: right;\">0.14375 </td><td style=\"text-align: right;\">     1</td><td style=\"text-align: right;\">        0.311366</td></tr>\n<tr><td>train_mnist_4a723_00009</td><td>TERMINATED</td><td>10.0.0.5:207</td><td style=\"text-align: right;\">0.00086271 </td><td style=\"text-align: right;\">  0.786129</td><td style=\"text-align: right;\">0.0875  </td><td style=\"text-align: right;\">     1</td><td style=\"text-align: right;\">        0.314516</td></tr>\n<tr><td>train_mnist_4a723_00010</td><td>TERMINATED</td><td>10.0.0.5:207</td><td style=\"text-align: right;\">0.0028259  </td><td style=\"text-align: right;\">  0.165509</td><td style=\"text-align: right;\">0.08125 </td><td style=\"text-align: right;\">     1</td><td style=\"text-align: right;\">        0.315134</td></tr>\n<tr><td>train_mnist_4a723_00011</td><td>TERMINATED</td><td>10.0.0.5:207</td><td style=\"text-align: right;\">0.000607665</td><td style=\"text-align: right;\">  0.734355</td><td style=\"text-align: right;\">0.13125 </td><td style=\"text-align: right;\">     4</td><td style=\"text-align: right;\">        1.13965 </td></tr>\n<tr><td>train_mnist_4a723_00012</td><td>TERMINATED</td><td>10.0.0.5:207</td><td style=\"text-align: right;\">0.00281773 </td><td style=\"text-align: right;\">  0.69713 </td><td style=\"text-align: right;\">0.309375</td><td style=\"text-align: right;\">     4</td><td style=\"text-align: right;\">        1.13134 </td></tr>\n<tr><td>train_mnist_4a723_00013</td><td>TERMINATED</td><td>10.0.0.5:207</td><td style=\"text-align: right;\">0.00046532 </td><td style=\"text-align: right;\">  0.718606</td><td style=\"text-align: right;\">0.071875</td><td style=\"text-align: right;\">     1</td><td style=\"text-align: right;\">        0.312466</td></tr>\n<tr><td>train_mnist_4a723_00014</td><td>TERMINATED</td><td>10.0.0.5:207</td><td style=\"text-align: right;\">0.0064968  </td><td style=\"text-align: right;\">  0.561649</td><td style=\"text-align: right;\">0.128125</td><td style=\"text-align: right;\">     1</td><td style=\"text-align: right;\">        0.329901</td></tr>\n<tr><td>train_mnist_4a723_00015</td><td>TERMINATED</td><td>10.0.0.5:207</td><td style=\"text-align: right;\">0.0001403  </td><td style=\"text-align: right;\">  0.809003</td><td style=\"text-align: right;\">0.08125 </td><td style=\"text-align: right;\">     1</td><td style=\"text-align: right;\">        0.316992</td></tr>\n<tr><td>train_mnist_4a723_00016</td><td>TERMINATED</td><td>10.0.0.5:207</td><td style=\"text-align: right;\">0.000859972</td><td style=\"text-align: right;\">  0.868237</td><td style=\"text-align: right;\">0.228125</td><td style=\"text-align: right;\">     4</td><td style=\"text-align: right;\">        1.15351 </td></tr>\n<tr><td>train_mnist_4a723_00017</td><td>TERMINATED</td><td>10.0.0.5:207</td><td style=\"text-align: right;\">0.00125431 </td><td style=\"text-align: right;\">  0.284279</td><td style=\"text-align: right;\">0.1     </td><td style=\"text-align: right;\">     1</td><td style=\"text-align: right;\">        0.311747</td></tr>\n<tr><td>train_mnist_4a723_00018</td><td>TERMINATED</td><td>10.0.0.5:207</td><td style=\"text-align: right;\">0.00112416 </td><td style=\"text-align: right;\">  0.203636</td><td style=\"text-align: right;\">0.1375  </td><td style=\"text-align: right;\">     1</td><td style=\"text-align: right;\">        0.311371</td></tr>\n<tr><td>train_mnist_4a723_00019</td><td>TERMINATED</td><td>10.0.0.5:207</td><td style=\"text-align: right;\">0.00334428 </td><td style=\"text-align: right;\">  0.184076</td><td style=\"text-align: right;\">0.11875 </td><td style=\"text-align: right;\">     1</td><td style=\"text-align: right;\">        0.32115 </td></tr>\n<tr><td>train_mnist_4a723_00020</td><td>TERMINATED</td><td>10.0.0.5:207</td><td style=\"text-align: right;\">0.000110248</td><td style=\"text-align: right;\">  0.352809</td><td style=\"text-align: right;\">0.134375</td><td style=\"text-align: right;\">     1</td><td style=\"text-align: right;\">        0.31627 </td></tr>\n<tr><td>train_mnist_4a723_00021</td><td>TERMINATED</td><td>10.0.0.5:207</td><td style=\"text-align: right;\">0.000785664</td><td style=\"text-align: right;\">  0.291629</td><td style=\"text-align: right;\">0.08125 </td><td style=\"text-align: right;\">     1</td><td style=\"text-align: right;\">        0.313821</td></tr>\n<tr><td>train_mnist_4a723_00022</td><td>TERMINATED</td><td>10.0.0.5:207</td><td style=\"text-align: right;\">0.00421169 </td><td style=\"text-align: right;\">  0.428007</td><td style=\"text-align: right;\">0.084375</td><td style=\"text-align: right;\">     1</td><td style=\"text-align: right;\">        0.325218</td></tr>\n<tr><td>train_mnist_4a723_00023</td><td>TERMINATED</td><td>10.0.0.5:207</td><td style=\"text-align: right;\">0.0010276  </td><td style=\"text-align: right;\">  0.449248</td><td style=\"text-align: right;\">0.090625</td><td style=\"text-align: right;\">     1</td><td style=\"text-align: right;\">        0.324813</td></tr>\n<tr><td>train_mnist_4a723_00024</td><td>TERMINATED</td><td>10.0.0.5:207</td><td style=\"text-align: right;\">0.00733648 </td><td style=\"text-align: right;\">  0.715147</td><td style=\"text-align: right;\">0.95    </td><td style=\"text-align: right;\">   100</td><td style=\"text-align: right;\">       28.1951  </td></tr>\n<tr><td>train_mnist_4a723_00025</td><td>TERMINATED</td><td>10.0.0.4:211</td><td style=\"text-align: right;\">0.000496857</td><td style=\"text-align: right;\">  0.738463</td><td style=\"text-align: right;\">0.146875</td><td style=\"text-align: right;\">     4</td><td style=\"text-align: right;\">        1.14402 </td></tr>\n<tr><td>train_mnist_4a723_00026</td><td>TERMINATED</td><td>10.0.0.4:211</td><td style=\"text-align: right;\">0.000340159</td><td style=\"text-align: right;\">  0.375661</td><td style=\"text-align: right;\">0.103125</td><td style=\"text-align: right;\">     1</td><td style=\"text-align: right;\">        0.311784</td></tr>\n<tr><td>train_mnist_4a723_00027</td><td>TERMINATED</td><td>10.0.0.4:211</td><td style=\"text-align: right;\">0.000111771</td><td style=\"text-align: right;\">  0.151986</td><td style=\"text-align: right;\">0.115625</td><td style=\"text-align: right;\">     1</td><td style=\"text-align: right;\">        0.313933</td></tr>\n<tr><td>train_mnist_4a723_00028</td><td>TERMINATED</td><td>10.0.0.4:211</td><td style=\"text-align: right;\">0.000781354</td><td style=\"text-align: right;\">  0.611394</td><td style=\"text-align: right;\">0.090625</td><td style=\"text-align: right;\">     1</td><td style=\"text-align: right;\">        0.32011 </td></tr>\n<tr><td>train_mnist_4a723_00029</td><td>TERMINATED</td><td>10.0.0.4:211</td><td style=\"text-align: right;\">0.00508904 </td><td style=\"text-align: right;\">  0.447981</td><td style=\"text-align: right;\">0.453125</td><td style=\"text-align: right;\">     4</td><td style=\"text-align: right;\">        1.14284 </td></tr>\n<tr><td>train_mnist_4a723_00030</td><td>TERMINATED</td><td>10.0.0.4:211</td><td style=\"text-align: right;\">0.00767305 </td><td style=\"text-align: right;\">  0.302061</td><td style=\"text-align: right;\">0.125   </td><td style=\"text-align: right;\">     1</td><td style=\"text-align: right;\">        0.309515</td></tr>\n<tr><td>train_mnist_4a723_00031</td><td>TERMINATED</td><td>10.0.0.4:211</td><td style=\"text-align: right;\">0.00370138 </td><td style=\"text-align: right;\">  0.737826</td><td style=\"text-align: right;\">0.08125 </td><td style=\"text-align: right;\">     1</td><td style=\"text-align: right;\">        0.313185</td></tr>\n<tr><td>train_mnist_4a723_00032</td><td>TERMINATED</td><td>10.0.0.4:211</td><td style=\"text-align: right;\">0.00021106 </td><td style=\"text-align: right;\">  0.389044</td><td style=\"text-align: right;\">0.11875 </td><td style=\"text-align: right;\">     1</td><td style=\"text-align: right;\">        0.311908</td></tr>\n<tr><td>train_mnist_4a723_00033</td><td>TERMINATED</td><td>10.0.0.4:211</td><td style=\"text-align: right;\">0.000130464</td><td style=\"text-align: right;\">  0.201621</td><td style=\"text-align: right;\">0.096875</td><td style=\"text-align: right;\">     1</td><td style=\"text-align: right;\">        0.321941</td></tr>\n<tr><td>train_mnist_4a723_00034</td><td>TERMINATED</td><td>10.0.0.4:211</td><td style=\"text-align: right;\">0.00269602 </td><td style=\"text-align: right;\">  0.486865</td><td style=\"text-align: right;\">0.08125 </td><td style=\"text-align: right;\">     1</td><td style=\"text-align: right;\">        0.31574 </td></tr>\n<tr><td>train_mnist_4a723_00035</td><td>TERMINATED</td><td>10.0.0.4:211</td><td style=\"text-align: right;\">0.00028503 </td><td style=\"text-align: right;\">  0.186749</td><td style=\"text-align: right;\">0.096875</td><td style=\"text-align: right;\">     1</td><td style=\"text-align: right;\">        0.316587</td></tr>\n<tr><td>train_mnist_4a723_00036</td><td>TERMINATED</td><td>10.0.0.4:211</td><td style=\"text-align: right;\">0.000507304</td><td style=\"text-align: right;\">  0.26809 </td><td style=\"text-align: right;\">0.1125  </td><td style=\"text-align: right;\">     1</td><td style=\"text-align: right;\">        0.31436 </td></tr>\n<tr><td>train_mnist_4a723_00037</td><td>TERMINATED</td><td>10.0.0.4:211</td><td style=\"text-align: right;\">0.000211081</td><td style=\"text-align: right;\">  0.827831</td><td style=\"text-align: right;\">0.090625</td><td style=\"text-align: right;\">     1</td><td style=\"text-align: right;\">        0.316125</td></tr>\n<tr><td>train_mnist_4a723_00038</td><td>TERMINATED</td><td>10.0.0.4:211</td><td style=\"text-align: right;\">0.000109638</td><td style=\"text-align: right;\">  0.394091</td><td style=\"text-align: right;\">0.16875 </td><td style=\"text-align: right;\">     4</td><td style=\"text-align: right;\">        1.14033 </td></tr>\n<tr><td>train_mnist_4a723_00039</td><td>TERMINATED</td><td>10.0.0.4:211</td><td style=\"text-align: right;\">0.00015808 </td><td style=\"text-align: right;\">  0.508191</td><td style=\"text-align: right;\">0.06875 </td><td style=\"text-align: right;\">     1</td><td style=\"text-align: right;\">        0.307402</td></tr>\n<tr><td>train_mnist_4a723_00040</td><td>TERMINATED</td><td>10.0.0.4:211</td><td style=\"text-align: right;\">0.000958499</td><td style=\"text-align: right;\">  0.257168</td><td style=\"text-align: right;\">0.125   </td><td style=\"text-align: right;\">     1</td><td style=\"text-align: right;\">        0.306788</td></tr>\n<tr><td>train_mnist_4a723_00041</td><td>TERMINATED</td><td>10.0.0.4:211</td><td style=\"text-align: right;\">0.00163857 </td><td style=\"text-align: right;\">  0.434986</td><td style=\"text-align: right;\">0.146875</td><td style=\"text-align: right;\">     4</td><td style=\"text-align: right;\">        1.15608 </td></tr>\n<tr><td>train_mnist_4a723_00042</td><td>TERMINATED</td><td>10.0.0.4:211</td><td style=\"text-align: right;\">0.000159519</td><td style=\"text-align: right;\">  0.641571</td><td style=\"text-align: right;\">0.109375</td><td style=\"text-align: right;\">     1</td><td style=\"text-align: right;\">        0.307916</td></tr>\n<tr><td>train_mnist_4a723_00043</td><td>TERMINATED</td><td>10.0.0.4:211</td><td style=\"text-align: right;\">0.000397379</td><td style=\"text-align: right;\">  0.115443</td><td style=\"text-align: right;\">0.096875</td><td style=\"text-align: right;\">     1</td><td style=\"text-align: right;\">        0.311304</td></tr>\n<tr><td>train_mnist_4a723_00044</td><td>TERMINATED</td><td>10.0.0.4:211</td><td style=\"text-align: right;\">0.0047775  </td><td style=\"text-align: right;\">  0.101802</td><td style=\"text-align: right;\">0.06875 </td><td style=\"text-align: right;\">     1</td><td style=\"text-align: right;\">        0.312923</td></tr>\n<tr><td>train_mnist_4a723_00045</td><td>TERMINATED</td><td>10.0.0.4:211</td><td style=\"text-align: right;\">0.000155387</td><td style=\"text-align: right;\">  0.195949</td><td style=\"text-align: right;\">0.078125</td><td style=\"text-align: right;\">     1</td><td style=\"text-align: right;\">        0.309805</td></tr>\n<tr><td>train_mnist_4a723_00046</td><td>TERMINATED</td><td>10.0.0.4:211</td><td style=\"text-align: right;\">0.00187316 </td><td style=\"text-align: right;\">  0.570281</td><td style=\"text-align: right;\">0.325   </td><td style=\"text-align: right;\">     4</td><td style=\"text-align: right;\">        1.15748 </td></tr>\n<tr><td>train_mnist_4a723_00047</td><td>TERMINATED</td><td>10.0.0.5:207</td><td style=\"text-align: right;\">0.00331648 </td><td style=\"text-align: right;\">  0.506998</td><td style=\"text-align: right;\">0.046875</td><td style=\"text-align: right;\">     1</td><td style=\"text-align: right;\">        0.311591</td></tr>\n<tr><td>train_mnist_4a723_00048</td><td>TERMINATED</td><td>10.0.0.5:207</td><td style=\"text-align: right;\">0.000306113</td><td style=\"text-align: right;\">  0.348668</td><td style=\"text-align: right;\">0.096875</td><td style=\"text-align: right;\">     1</td><td style=\"text-align: right;\">        0.311632</td></tr>\n<tr><td>train_mnist_4a723_00049</td><td>TERMINATED</td><td>10.0.0.5:207</td><td style=\"text-align: right;\">0.00346952 </td><td style=\"text-align: right;\">  0.378525</td><td style=\"text-align: right;\">0.33125 </td><td style=\"text-align: right;\">     4</td><td style=\"text-align: right;\">        1.56062 </td></tr>\n</tbody>\n</table>\n  </div>\n</div>\n<style>\n.tuneStatus {\n  color: var(--jp-ui-font-color1);\n}\n.tuneStatus .systemInfo {\n  display: flex;\n  flex-direction: column;\n}\n.tuneStatus td {\n  white-space: nowrap;\n}\n.tuneStatus .trialStatus {\n  display: flex;\n  flex-direction: column;\n}\n.tuneStatus h3 {\n  font-weight: bold;\n}\n.tuneStatus .hDivider {\n  border-bottom-width: var(--jp-border-width);\n  border-bottom-color: var(--jp-border-color0);\n  border-bottom-style: solid;\n}\n.tuneStatus .vDivider {\n  border-left-width: var(--jp-border-width);\n  border-left-color: var(--jp-border-color0);\n  border-left-style: solid;\n  margin: 0.5em 1em 0.5em 1em;\n}\n</style>\n"
          },
          "metadata": {}
        },
        {
          "output_type": "stream",
          "name": "stdout",
          "text": "\u001b[2m\u001b[1m\u001b[36m(autoscaler +26s)\u001b[0m Tip: use `ray status` to view detailed cluster status. To disable these messages, set RAY_SCHEDULER_EVENTS=0.\n\u001b[2m\u001b[1m\u001b[33m(autoscaler +26s)\u001b[0m Error: No available node types can fulfill resource request {'CPU': 2.0, 'GPU': 1.0}. Add suitable node types to this cluster to resolve this issue.\n\u001b[2m\u001b[1m\u001b[33m(autoscaler +1m1s)\u001b[0m Error: No available node types can fulfill resource request {'GPU': 1.0, 'CPU': 2.0}. Add suitable node types to this cluster to resolve this issue.\n\u001b[2m\u001b[1m\u001b[33m(autoscaler +1m36s)\u001b[0m Error: No available node types can fulfill resource request {'GPU': 1.0, 'CPU': 2.0}. Add suitable node types to this cluster to resolve this issue.\n\u001b[2m\u001b[1m\u001b[33m(autoscaler +2m12s)\u001b[0m Error: No available node types can fulfill resource request {'CPU': 2.0, 'GPU': 1.0}. Add suitable node types to this cluster to resolve this issue.\n\u001b[2m\u001b[1m\u001b[33m(autoscaler +2m47s)\u001b[0m Error: No available node types can fulfill resource request {'GPU': 1.0, 'CPU': 2.0}. Add suitable node types to this cluster to resolve this issue.\n\u001b[2m\u001b[1m\u001b[33m(autoscaler +3m22s)\u001b[0m Error: No available node types can fulfill resource request {'CPU': 2.0, 'GPU': 1.0}. Add suitable node types to this cluster to resolve this issue.\n\u001b[2m\u001b[1m\u001b[33m(autoscaler +3m57s)\u001b[0m Error: No available node types can fulfill resource request {'CPU': 2.0, 'GPU': 1.0}. Add suitable node types to this cluster to resolve this issue.\n\u001b[2m\u001b[1m\u001b[33m(autoscaler +4m32s)\u001b[0m Error: No available node types can fulfill resource request {'CPU': 2.0, 'GPU': 1.0}. Add suitable node types to this cluster to resolve this issue.\n\u001b[2m\u001b[1m\u001b[33m(autoscaler +5m7s)\u001b[0m Error: No available node types can fulfill resource request {'CPU': 2.0, 'GPU': 1.0}. Add suitable node types to this cluster to resolve this issue.\n\u001b[2m\u001b[1m\u001b[33m(autoscaler +5m42s)\u001b[0m Error: No available node types can fulfill resource request {'CPU': 2.0, 'GPU': 1.0}. Add suitable node types to this cluster to resolve this issue.\n\u001b[2m\u001b[1m\u001b[33m(autoscaler +6m17s)\u001b[0m Error: No available node types can fulfill resource request {'GPU': 1.0, 'CPU': 2.0}. Add suitable node types to this cluster to resolve this issue.\n\u001b[2m\u001b[1m\u001b[33m(autoscaler +6m52s)\u001b[0m Error: No available node types can fulfill resource request {'GPU': 1.0, 'CPU': 2.0}. Add suitable node types to this cluster to resolve this issue.\n\u001b[2m\u001b[1m\u001b[33m(autoscaler +7m27s)\u001b[0m Error: No available node types can fulfill resource request {'GPU': 1.0, 'CPU': 2.0}. Add suitable node types to this cluster to resolve this issue.\n\u001b[2m\u001b[1m\u001b[33m(autoscaler +8m2s)\u001b[0m Error: No available node types can fulfill resource request {'CPU': 2.0, 'GPU': 1.0}. Add suitable node types to this cluster to resolve this issue.\n\u001b[2m\u001b[1m\u001b[33m(autoscaler +8m37s)\u001b[0m Error: No available node types can fulfill resource request {'CPU': 2.0, 'GPU': 1.0}. Add suitable node types to this cluster to resolve this issue.\n\u001b[2m\u001b[1m\u001b[33m(autoscaler +9m12s)\u001b[0m Error: No available node types can fulfill resource request {'CPU': 2.0, 'GPU': 1.0}. Add suitable node types to this cluster to resolve this issue.\n\u001b[2m\u001b[1m\u001b[33m(autoscaler +9m48s)\u001b[0m Error: No available node types can fulfill resource request {'GPU': 1.0, 'CPU': 2.0}. Add suitable node types to this cluster to resolve this issue.\n\u001b[2m\u001b[1m\u001b[33m(autoscaler +10m23s)\u001b[0m Error: No available node types can fulfill resource request {'GPU': 1.0, 'CPU': 2.0}. Add suitable node types to this cluster to resolve this issue.\n\u001b[2m\u001b[1m\u001b[33m(autoscaler +10m58s)\u001b[0m Error: No available node types can fulfill resource request {'CPU': 2.0, 'GPU': 1.0}. Add suitable node types to this cluster to resolve this issue.\n\u001b[2m\u001b[1m\u001b[33m(autoscaler +11m33s)\u001b[0m Error: No available node types can fulfill resource request {'GPU': 1.0, 'CPU': 2.0}. Add suitable node types to this cluster to resolve this issue.\n\u001b[2m\u001b[1m\u001b[33m(autoscaler +12m8s)\u001b[0m Error: No available node types can fulfill resource request {'GPU': 1.0, 'CPU': 2.0}. Add suitable node types to this cluster to resolve this issue.\n\u001b[2m\u001b[1m\u001b[33m(autoscaler +12m43s)\u001b[0m Error: No available node types can fulfill resource request {'CPU': 2.0, 'GPU': 1.0}. Add suitable node types to this cluster to resolve this issue.\n\u001b[2m\u001b[1m\u001b[33m(autoscaler +13m18s)\u001b[0m Error: No available node types can fulfill resource request {'CPU': 2.0, 'GPU': 1.0}. Add suitable node types to this cluster to resolve this issue.\n\u001b[2m\u001b[1m\u001b[33m(autoscaler +13m53s)\u001b[0m Error: No available node types can fulfill resource request {'CPU': 2.0, 'GPU': 1.0}. Add suitable node types to this cluster to resolve this issue.\n\u001b[2m\u001b[1m\u001b[33m(autoscaler +14m28s)\u001b[0m Error: No available node types can fulfill resource request {'CPU': 2.0, 'GPU': 1.0}. Add suitable node types to this cluster to resolve this issue.\n\u001b[2m\u001b[1m\u001b[33m(autoscaler +15m3s)\u001b[0m Error: No available node types can fulfill resource request {'CPU': 2.0, 'GPU': 1.0}. Add suitable node types to this cluster to resolve this issue.\n\u001b[2m\u001b[1m\u001b[33m(autoscaler +15m38s)\u001b[0m Error: No available node types can fulfill resource request {'CPU': 2.0, 'GPU': 1.0}. Add suitable node types to this cluster to resolve this issue.\n\u001b[2m\u001b[1m\u001b[33m(autoscaler +16m13s)\u001b[0m Error: No available node types can fulfill resource request {'CPU': 2.0, 'GPU': 1.0}. Add suitable node types to this cluster to resolve this issue.\n\u001b[2m\u001b[1m\u001b[33m(autoscaler +16m49s)\u001b[0m Error: No available node types can fulfill resource request {'CPU': 2.0, 'GPU': 1.0}. Add suitable node types to this cluster to resolve this issue.\n\u001b[2m\u001b[1m\u001b[33m(autoscaler +17m24s)\u001b[0m Error: No available node types can fulfill resource request {'GPU': 1.0, 'CPU': 2.0}. Add suitable node types to this cluster to resolve this issue.\n\u001b[2m\u001b[1m\u001b[33m(autoscaler +17m59s)\u001b[0m Error: No available node types can fulfill resource request {'GPU': 1.0, 'CPU': 2.0}. Add suitable node types to this cluster to resolve this issue.\n\u001b[2m\u001b[1m\u001b[33m(autoscaler +18m34s)\u001b[0m Error: No available node types can fulfill resource request {'CPU': 2.0, 'GPU': 1.0}. Add suitable node types to this cluster to resolve this issue.\n\u001b[2m\u001b[1m\u001b[33m(autoscaler +19m9s)\u001b[0m Error: No available node types can fulfill resource request {'GPU': 1.0, 'CPU': 2.0}. Add suitable node types to this cluster to resolve this issue.\n\u001b[2m\u001b[1m\u001b[33m(autoscaler +19m44s)\u001b[0m Error: No available node types can fulfill resource request {'GPU': 1.0, 'CPU': 2.0}. Add suitable node types to this cluster to resolve this issue.\n\u001b[2m\u001b[1m\u001b[33m(autoscaler +20m19s)\u001b[0m Error: No available node types can fulfill resource request {'CPU': 2.0, 'GPU': 1.0}. Add suitable node types to this cluster to resolve this issue.\n\u001b[2m\u001b[1m\u001b[33m(autoscaler +20m54s)\u001b[0m Error: No available node types can fulfill resource request {'CPU': 2.0, 'GPU': 1.0}. Add suitable node types to this cluster to resolve this issue.\n\u001b[2m\u001b[1m\u001b[33m(autoscaler +21m29s)\u001b[0m Error: No available node types can fulfill resource request {'GPU': 1.0, 'CPU': 2.0}. Add suitable node types to this cluster to resolve this issue.\n\u001b[2m\u001b[1m\u001b[33m(autoscaler +22m4s)\u001b[0m Error: No available node types can fulfill resource request {'GPU': 1.0, 'CPU': 2.0}. Add suitable node types to this cluster to resolve this issue.\n\u001b[2m\u001b[1m\u001b[33m(autoscaler +22m39s)\u001b[0m Error: No available node types can fulfill resource request {'GPU': 1.0, 'CPU': 2.0}. Add suitable node types to this cluster to resolve this issue.\n\u001b[2m\u001b[1m\u001b[33m(autoscaler +23m14s)\u001b[0m Error: No available node types can fulfill resource request {'CPU': 2.0, 'GPU': 1.0}. Add suitable node types to this cluster to resolve this issue.\n\u001b[2m\u001b[1m\u001b[33m(autoscaler +23m49s)\u001b[0m Error: No available node types can fulfill resource request {'GPU': 1.0, 'CPU': 2.0}. Add suitable node types to this cluster to resolve this issue.\n\u001b[2m\u001b[1m\u001b[33m(autoscaler +24m24s)\u001b[0m Error: No available node types can fulfill resource request {'GPU': 1.0, 'CPU': 2.0}. Add suitable node types to this cluster to resolve this issue.\n\u001b[2m\u001b[1m\u001b[33m(autoscaler +24m59s)\u001b[0m Error: No available node types can fulfill resource request {'CPU': 2.0, 'GPU': 1.0}. Add suitable node types to this cluster to resolve this issue.\n\u001b[2m\u001b[1m\u001b[33m(autoscaler +25m35s)\u001b[0m Error: No available node types can fulfill resource request {'CPU': 2.0, 'GPU': 1.0}. Add suitable node types to this cluster to resolve this issue.\n\u001b[2m\u001b[1m\u001b[33m(autoscaler +26m10s)\u001b[0m Error: No available node types can fulfill resource request {'GPU': 1.0, 'CPU': 2.0}. Add suitable node types to this cluster to resolve this issue.\n\u001b[2m\u001b[1m\u001b[33m(autoscaler +26m45s)\u001b[0m Error: No available node types can fulfill resource request {'GPU': 1.0, 'CPU': 2.0}. Add suitable node types to this cluster to resolve this issue.\n\u001b[2m\u001b[36m(train_mnist pid=211, ip=10.0.0.4)\u001b[0m Downloading http://yann.lecun.com/exdb/mnist/train-images-idx3-ubyte.gz\n\u001b[2m\u001b[36m(train_mnist pid=211, ip=10.0.0.4)\u001b[0m Downloading http://yann.lecun.com/exdb/mnist/train-images-idx3-ubyte.gz to /root/data/MNIST/raw/train-images-idx3-ubyte.gz\n\u001b[2m\u001b[36m(train_mnist pid=211, ip=10.0.0.4)\u001b[0m Extracting /root/data/MNIST/raw/train-images-idx3-ubyte.gz to /root/data/MNIST/raw\n\u001b[2m\u001b[36m(train_mnist pid=211, ip=10.0.0.4)\u001b[0m \n\u001b[2m\u001b[36m(train_mnist pid=211, ip=10.0.0.4)\u001b[0m \n"
        },
        {
          "output_type": "stream",
          "name": "stderr",
          "text": "2023-04-28 03:26:24,895\tWARNING insufficient_resources_manager.py:128 -- Ignore this message if the cluster is autoscaling. You asked for 2.0 cpu and 1.0 gpu per trial, but the cluster only has 4.0 cpu and 0 gpu. Stop the tuning job and adjust the resources requested per trial (possibly via `resources_per_trial` or via `num_workers` for rllib) and/or add more resources to your Ray runtime.\n2023-04-28 03:27:24,997\tWARNING insufficient_resources_manager.py:128 -- Ignore this message if the cluster is autoscaling. You asked for 2.0 cpu and 1.0 gpu per trial, but the cluster only has 4.0 cpu and 0 gpu. Stop the tuning job and adjust the resources requested per trial (possibly via `resources_per_trial` or via `num_workers` for rllib) and/or add more resources to your Ray runtime.\n2023-04-28 03:28:25,101\tWARNING insufficient_resources_manager.py:128 -- Ignore this message if the cluster is autoscaling. You asked for 2.0 cpu and 1.0 gpu per trial, but the cluster only has 4.0 cpu and 0 gpu. Stop the tuning job and adjust the resources requested per trial (possibly via `resources_per_trial` or via `num_workers` for rllib) and/or add more resources to your Ray runtime.\n2023-04-28 03:29:25,203\tWARNING insufficient_resources_manager.py:128 -- Ignore this message if the cluster is autoscaling. You asked for 2.0 cpu and 1.0 gpu per trial, but the cluster only has 4.0 cpu and 0 gpu. Stop the tuning job and adjust the resources requested per trial (possibly via `resources_per_trial` or via `num_workers` for rllib) and/or add more resources to your Ray runtime.\n2023-04-28 03:30:25,305\tWARNING insufficient_resources_manager.py:128 -- Ignore this message if the cluster is autoscaling. You asked for 2.0 cpu and 1.0 gpu per trial, but the cluster only has 4.0 cpu and 0 gpu. Stop the tuning job and adjust the resources requested per trial (possibly via `resources_per_trial` or via `num_workers` for rllib) and/or add more resources to your Ray runtime.\n2023-04-28 03:31:25,408\tWARNING insufficient_resources_manager.py:128 -- Ignore this message if the cluster is autoscaling. You asked for 2.0 cpu and 1.0 gpu per trial, but the cluster only has 4.0 cpu and 0 gpu. Stop the tuning job and adjust the resources requested per trial (possibly via `resources_per_trial` or via `num_workers` for rllib) and/or add more resources to your Ray runtime.\n2023-04-28 03:32:25,511\tWARNING insufficient_resources_manager.py:128 -- Ignore this message if the cluster is autoscaling. You asked for 2.0 cpu and 1.0 gpu per trial, but the cluster only has 4.0 cpu and 0 gpu. Stop the tuning job and adjust the resources requested per trial (possibly via `resources_per_trial` or via `num_workers` for rllib) and/or add more resources to your Ray runtime.\n2023-04-28 03:33:25,616\tWARNING insufficient_resources_manager.py:128 -- Ignore this message if the cluster is autoscaling. You asked for 2.0 cpu and 1.0 gpu per trial, but the cluster only has 4.0 cpu and 0 gpu. Stop the tuning job and adjust the resources requested per trial (possibly via `resources_per_trial` or via `num_workers` for rllib) and/or add more resources to your Ray runtime.\n2023-04-28 03:34:25,720\tWARNING insufficient_resources_manager.py:128 -- Ignore this message if the cluster is autoscaling. You asked for 2.0 cpu and 1.0 gpu per trial, but the cluster only has 4.0 cpu and 0 gpu. Stop the tuning job and adjust the resources requested per trial (possibly via `resources_per_trial` or via `num_workers` for rllib) and/or add more resources to your Ray runtime.\n2023-04-28 03:35:26,080\tWARNING insufficient_resources_manager.py:128 -- Ignore this message if the cluster is autoscaling. You asked for 2.0 cpu and 1.0 gpu per trial, but the cluster only has 4.0 cpu and 0 gpu. Stop the tuning job and adjust the resources requested per trial (possibly via `resources_per_trial` or via `num_workers` for rllib) and/or add more resources to your Ray runtime.\n2023-04-28 03:36:26,180\tWARNING insufficient_resources_manager.py:128 -- Ignore this message if the cluster is autoscaling. You asked for 2.0 cpu and 1.0 gpu per trial, but the cluster only has 4.0 cpu and 0 gpu. Stop the tuning job and adjust the resources requested per trial (possibly via `resources_per_trial` or via `num_workers` for rllib) and/or add more resources to your Ray runtime.\n2023-04-28 03:37:26,281\tWARNING insufficient_resources_manager.py:128 -- Ignore this message if the cluster is autoscaling. You asked for 2.0 cpu and 1.0 gpu per trial, but the cluster only has 4.0 cpu and 0 gpu. Stop the tuning job and adjust the resources requested per trial (possibly via `resources_per_trial` or via `num_workers` for rllib) and/or add more resources to your Ray runtime.\n2023-04-28 03:38:26,384\tWARNING insufficient_resources_manager.py:128 -- Ignore this message if the cluster is autoscaling. You asked for 2.0 cpu and 1.0 gpu per trial, but the cluster only has 4.0 cpu and 0 gpu. Stop the tuning job and adjust the resources requested per trial (possibly via `resources_per_trial` or via `num_workers` for rllib) and/or add more resources to your Ray runtime.\n2023-04-28 03:39:26,488\tWARNING insufficient_resources_manager.py:128 -- Ignore this message if the cluster is autoscaling. You asked for 2.0 cpu and 1.0 gpu per trial, but the cluster only has 4.0 cpu and 0 gpu. Stop the tuning job and adjust the resources requested per trial (possibly via `resources_per_trial` or via `num_workers` for rllib) and/or add more resources to your Ray runtime.\n2023-04-28 03:40:26,592\tWARNING insufficient_resources_manager.py:128 -- Ignore this message if the cluster is autoscaling. You asked for 2.0 cpu and 1.0 gpu per trial, but the cluster only has 4.0 cpu and 0 gpu. Stop the tuning job and adjust the resources requested per trial (possibly via `resources_per_trial` or via `num_workers` for rllib) and/or add more resources to your Ray runtime.\n2023-04-28 03:41:26,695\tWARNING insufficient_resources_manager.py:128 -- Ignore this message if the cluster is autoscaling. You asked for 2.0 cpu and 1.0 gpu per trial, but the cluster only has 4.0 cpu and 0 gpu. Stop the tuning job and adjust the resources requested per trial (possibly via `resources_per_trial` or via `num_workers` for rllib) and/or add more resources to your Ray runtime.\n2023-04-28 03:42:26,797\tWARNING insufficient_resources_manager.py:128 -- Ignore this message if the cluster is autoscaling. You asked for 2.0 cpu and 1.0 gpu per trial, but the cluster only has 4.0 cpu and 0 gpu. Stop the tuning job and adjust the resources requested per trial (possibly via `resources_per_trial` or via `num_workers` for rllib) and/or add more resources to your Ray runtime.\n2023-04-28 03:43:26,899\tWARNING insufficient_resources_manager.py:128 -- Ignore this message if the cluster is autoscaling. You asked for 2.0 cpu and 1.0 gpu per trial, but the cluster only has 4.0 cpu and 0 gpu. Stop the tuning job and adjust the resources requested per trial (possibly via `resources_per_trial` or via `num_workers` for rllib) and/or add more resources to your Ray runtime.\n2023-04-28 03:44:27,009\tWARNING insufficient_resources_manager.py:128 -- Ignore this message if the cluster is autoscaling. You asked for 2.0 cpu and 1.0 gpu per trial, but the cluster only has 4.0 cpu and 0 gpu. Stop the tuning job and adjust the resources requested per trial (possibly via `resources_per_trial` or via `num_workers` for rllib) and/or add more resources to your Ray runtime.\n2023-04-28 03:45:27,161\tWARNING insufficient_resources_manager.py:128 -- Ignore this message if the cluster is autoscaling. You asked for 2.0 cpu and 1.0 gpu per trial, but the cluster only has 4.0 cpu and 0 gpu. Stop the tuning job and adjust the resources requested per trial (possibly via `resources_per_trial` or via `num_workers` for rllib) and/or add more resources to your Ray runtime.\n2023-04-28 03:46:27,264\tWARNING insufficient_resources_manager.py:128 -- Ignore this message if the cluster is autoscaling. You asked for 2.0 cpu and 1.0 gpu per trial, but the cluster only has 4.0 cpu and 0 gpu. Stop the tuning job and adjust the resources requested per trial (possibly via `resources_per_trial` or via `num_workers` for rllib) and/or add more resources to your Ray runtime.\n2023-04-28 03:47:27,368\tWARNING insufficient_resources_manager.py:128 -- Ignore this message if the cluster is autoscaling. You asked for 2.0 cpu and 1.0 gpu per trial, but the cluster only has 4.0 cpu and 0 gpu. Stop the tuning job and adjust the resources requested per trial (possibly via `resources_per_trial` or via `num_workers` for rllib) and/or add more resources to your Ray runtime.\n2023-04-28 03:48:27,464\tWARNING insufficient_resources_manager.py:128 -- Ignore this message if the cluster is autoscaling. You asked for 2.0 cpu and 1.0 gpu per trial, but the cluster only has 4.0 cpu and 0 gpu. Stop the tuning job and adjust the resources requested per trial (possibly via `resources_per_trial` or via `num_workers` for rllib) and/or add more resources to your Ray runtime.\n2023-04-28 03:49:27,569\tWARNING insufficient_resources_manager.py:128 -- Ignore this message if the cluster is autoscaling. You asked for 2.0 cpu and 1.0 gpu per trial, but the cluster only has 4.0 cpu and 0 gpu. Stop the tuning job and adjust the resources requested per trial (possibly via `resources_per_trial` or via `num_workers` for rllib) and/or add more resources to your Ray runtime.\n2023-04-28 03:50:27,673\tWARNING insufficient_resources_manager.py:128 -- Ignore this message if the cluster is autoscaling. You asked for 2.0 cpu and 1.0 gpu per trial, but the cluster only has 4.0 cpu and 0 gpu. Stop the tuning job and adjust the resources requested per trial (possibly via `resources_per_trial` or via `num_workers` for rllib) and/or add more resources to your Ray runtime.\n2023-04-28 03:51:27,773\tWARNING insufficient_resources_manager.py:128 -- Ignore this message if the cluster is autoscaling. You asked for 2.0 cpu and 1.0 gpu per trial, but the cluster only has 4.0 cpu and 0 gpu. Stop the tuning job and adjust the resources requested per trial (possibly via `resources_per_trial` or via `num_workers` for rllib) and/or add more resources to your Ray runtime.\n\u001b[2m\u001b[33m(raylet, ip=10.0.0.5)\u001b[0m bash: /azureml-envs/azureml_215668d644dbddd7265ecc2b521fbe22/lib/libtinfo.so.6: no version information available (required by bash)\n\u001b[2m\u001b[33m(raylet, ip=10.0.0.4)\u001b[0m bash: /azureml-envs/azureml_215668d644dbddd7265ecc2b521fbe22/lib/libtinfo.so.6: no version information available (required by bash)\n100.0%36m(train_mnist pid=211, ip=10.0.0.4)\u001b[0m \n"
        },
        {
          "output_type": "display_data",
          "data": {
            "text/plain": "<IPython.core.display.HTML object>",
            "text/html": "<div class=\"trialProgress\">\n  <h3>Trial Progress</h3>\n  <table>\n<thead>\n<tr><th>Trial name             </th><th>date               </th><th>done  </th><th>hostname                              </th><th style=\"text-align: right;\">  iterations_since_restore</th><th style=\"text-align: right;\">  mean_accuracy</th><th>node_ip  </th><th style=\"text-align: right;\">  pid</th><th style=\"text-align: right;\">  time_since_restore</th><th style=\"text-align: right;\">  time_this_iter_s</th><th style=\"text-align: right;\">  time_total_s</th><th style=\"text-align: right;\">  timestamp</th><th style=\"text-align: right;\">  training_iteration</th><th>trial_id   </th></tr>\n</thead>\n<tbody>\n<tr><td>train_mnist_4a723_00000</td><td>2023-04-28_03-52-32</td><td>True  </td><td>7a537cc00f9f465e84e4fc26b8f5bbe9000002</td><td style=\"text-align: right;\">                       100</td><td style=\"text-align: right;\">       0.175   </td><td>10.0.0.4 </td><td style=\"text-align: right;\">  211</td><td style=\"text-align: right;\">           33.2725  </td><td style=\"text-align: right;\">          0.293424</td><td style=\"text-align: right;\">     33.2725  </td><td style=\"text-align: right;\"> 1682653952</td><td style=\"text-align: right;\">                 100</td><td>4a723_00000</td></tr>\n<tr><td>train_mnist_4a723_00001</td><td>2023-04-28_03-52-03</td><td>True  </td><td>7a537cc00f9f465e84e4fc26b8f5bbe9000003</td><td style=\"text-align: right;\">                         1</td><td style=\"text-align: right;\">       0.065625</td><td>10.0.0.5 </td><td style=\"text-align: right;\">  207</td><td style=\"text-align: right;\">            3.88125 </td><td style=\"text-align: right;\">          3.88125 </td><td style=\"text-align: right;\">      3.88125 </td><td style=\"text-align: right;\"> 1682653923</td><td style=\"text-align: right;\">                   1</td><td>4a723_00001</td></tr>\n<tr><td>train_mnist_4a723_00002</td><td>2023-04-28_03-52-04</td><td>True  </td><td>7a537cc00f9f465e84e4fc26b8f5bbe9000003</td><td style=\"text-align: right;\">                         4</td><td style=\"text-align: right;\">       0.0875  </td><td>10.0.0.5 </td><td style=\"text-align: right;\">  207</td><td style=\"text-align: right;\">            1.14075 </td><td style=\"text-align: right;\">          0.269105</td><td style=\"text-align: right;\">      1.14075 </td><td style=\"text-align: right;\"> 1682653924</td><td style=\"text-align: right;\">                   4</td><td>4a723_00002</td></tr>\n<tr><td>train_mnist_4a723_00003</td><td>2023-04-28_03-52-33</td><td>True  </td><td>7a537cc00f9f465e84e4fc26b8f5bbe9000003</td><td style=\"text-align: right;\">                       100</td><td style=\"text-align: right;\">       0.86875 </td><td>10.0.0.5 </td><td style=\"text-align: right;\">  207</td><td style=\"text-align: right;\">           27.159   </td><td style=\"text-align: right;\">          0.26853 </td><td style=\"text-align: right;\">     27.159   </td><td style=\"text-align: right;\"> 1682653953</td><td style=\"text-align: right;\">                 100</td><td>4a723_00003</td></tr>\n<tr><td>train_mnist_4a723_00004</td><td>2023-04-28_03-52-33</td><td>True  </td><td>7a537cc00f9f465e84e4fc26b8f5bbe9000002</td><td style=\"text-align: right;\">                         1</td><td style=\"text-align: right;\">       0.040625</td><td>10.0.0.4 </td><td style=\"text-align: right;\">  211</td><td style=\"text-align: right;\">            0.329112</td><td style=\"text-align: right;\">          0.329112</td><td style=\"text-align: right;\">      0.329112</td><td style=\"text-align: right;\"> 1682653953</td><td style=\"text-align: right;\">                   1</td><td>4a723_00004</td></tr>\n<tr><td>train_mnist_4a723_00005</td><td>2023-04-28_03-53-00</td><td>True  </td><td>7a537cc00f9f465e84e4fc26b8f5bbe9000002</td><td style=\"text-align: right;\">                       100</td><td style=\"text-align: right;\">       0.903125</td><td>10.0.0.4 </td><td style=\"text-align: right;\">  211</td><td style=\"text-align: right;\">           27.8633  </td><td style=\"text-align: right;\">          0.264632</td><td style=\"text-align: right;\">     27.8633  </td><td style=\"text-align: right;\"> 1682653980</td><td style=\"text-align: right;\">                 100</td><td>4a723_00005</td></tr>\n<tr><td>train_mnist_4a723_00006</td><td>2023-04-28_03-52-34</td><td>True  </td><td>7a537cc00f9f465e84e4fc26b8f5bbe9000003</td><td style=\"text-align: right;\">                         1</td><td style=\"text-align: right;\">       0.121875</td><td>10.0.0.5 </td><td style=\"text-align: right;\">  207</td><td style=\"text-align: right;\">            0.311179</td><td style=\"text-align: right;\">          0.311179</td><td style=\"text-align: right;\">      0.311179</td><td style=\"text-align: right;\"> 1682653954</td><td style=\"text-align: right;\">                   1</td><td>4a723_00006</td></tr>\n<tr><td>train_mnist_4a723_00007</td><td>2023-04-28_03-52-35</td><td>True  </td><td>7a537cc00f9f465e84e4fc26b8f5bbe9000003</td><td style=\"text-align: right;\">                         4</td><td style=\"text-align: right;\">       0.428125</td><td>10.0.0.5 </td><td style=\"text-align: right;\">  207</td><td style=\"text-align: right;\">            1.13743 </td><td style=\"text-align: right;\">          0.269109</td><td style=\"text-align: right;\">      1.13743 </td><td style=\"text-align: right;\"> 1682653955</td><td style=\"text-align: right;\">                   4</td><td>4a723_00007</td></tr>\n<tr><td>train_mnist_4a723_00008</td><td>2023-04-28_03-52-35</td><td>True  </td><td>7a537cc00f9f465e84e4fc26b8f5bbe9000003</td><td style=\"text-align: right;\">                         1</td><td style=\"text-align: right;\">       0.14375 </td><td>10.0.0.5 </td><td style=\"text-align: right;\">  207</td><td style=\"text-align: right;\">            0.311366</td><td style=\"text-align: right;\">          0.311366</td><td style=\"text-align: right;\">      0.311366</td><td style=\"text-align: right;\"> 1682653955</td><td style=\"text-align: right;\">                   1</td><td>4a723_00008</td></tr>\n<tr><td>train_mnist_4a723_00009</td><td>2023-04-28_03-52-36</td><td>True  </td><td>7a537cc00f9f465e84e4fc26b8f5bbe9000003</td><td style=\"text-align: right;\">                         1</td><td style=\"text-align: right;\">       0.0875  </td><td>10.0.0.5 </td><td style=\"text-align: right;\">  207</td><td style=\"text-align: right;\">            0.314516</td><td style=\"text-align: right;\">          0.314516</td><td style=\"text-align: right;\">      0.314516</td><td style=\"text-align: right;\"> 1682653956</td><td style=\"text-align: right;\">                   1</td><td>4a723_00009</td></tr>\n<tr><td>train_mnist_4a723_00010</td><td>2023-04-28_03-52-36</td><td>True  </td><td>7a537cc00f9f465e84e4fc26b8f5bbe9000003</td><td style=\"text-align: right;\">                         1</td><td style=\"text-align: right;\">       0.08125 </td><td>10.0.0.5 </td><td style=\"text-align: right;\">  207</td><td style=\"text-align: right;\">            0.315134</td><td style=\"text-align: right;\">          0.315134</td><td style=\"text-align: right;\">      0.315134</td><td style=\"text-align: right;\"> 1682653956</td><td style=\"text-align: right;\">                   1</td><td>4a723_00010</td></tr>\n<tr><td>train_mnist_4a723_00011</td><td>2023-04-28_03-52-37</td><td>True  </td><td>7a537cc00f9f465e84e4fc26b8f5bbe9000003</td><td style=\"text-align: right;\">                         4</td><td style=\"text-align: right;\">       0.13125 </td><td>10.0.0.5 </td><td style=\"text-align: right;\">  207</td><td style=\"text-align: right;\">            1.13965 </td><td style=\"text-align: right;\">          0.269073</td><td style=\"text-align: right;\">      1.13965 </td><td style=\"text-align: right;\"> 1682653957</td><td style=\"text-align: right;\">                   4</td><td>4a723_00011</td></tr>\n<tr><td>train_mnist_4a723_00012</td><td>2023-04-28_03-52-39</td><td>True  </td><td>7a537cc00f9f465e84e4fc26b8f5bbe9000003</td><td style=\"text-align: right;\">                         4</td><td style=\"text-align: right;\">       0.309375</td><td>10.0.0.5 </td><td style=\"text-align: right;\">  207</td><td style=\"text-align: right;\">            1.13134 </td><td style=\"text-align: right;\">          0.268512</td><td style=\"text-align: right;\">      1.13134 </td><td style=\"text-align: right;\"> 1682653959</td><td style=\"text-align: right;\">                   4</td><td>4a723_00012</td></tr>\n<tr><td>train_mnist_4a723_00013</td><td>2023-04-28_03-52-39</td><td>True  </td><td>7a537cc00f9f465e84e4fc26b8f5bbe9000003</td><td style=\"text-align: right;\">                         1</td><td style=\"text-align: right;\">       0.071875</td><td>10.0.0.5 </td><td style=\"text-align: right;\">  207</td><td style=\"text-align: right;\">            0.312466</td><td style=\"text-align: right;\">          0.312466</td><td style=\"text-align: right;\">      0.312466</td><td style=\"text-align: right;\"> 1682653959</td><td style=\"text-align: right;\">                   1</td><td>4a723_00013</td></tr>\n<tr><td>train_mnist_4a723_00014</td><td>2023-04-28_03-52-40</td><td>True  </td><td>7a537cc00f9f465e84e4fc26b8f5bbe9000003</td><td style=\"text-align: right;\">                         1</td><td style=\"text-align: right;\">       0.128125</td><td>10.0.0.5 </td><td style=\"text-align: right;\">  207</td><td style=\"text-align: right;\">            0.329901</td><td style=\"text-align: right;\">          0.329901</td><td style=\"text-align: right;\">      0.329901</td><td style=\"text-align: right;\"> 1682653960</td><td style=\"text-align: right;\">                   1</td><td>4a723_00014</td></tr>\n<tr><td>train_mnist_4a723_00015</td><td>2023-04-28_03-52-40</td><td>True  </td><td>7a537cc00f9f465e84e4fc26b8f5bbe9000003</td><td style=\"text-align: right;\">                         1</td><td style=\"text-align: right;\">       0.08125 </td><td>10.0.0.5 </td><td style=\"text-align: right;\">  207</td><td style=\"text-align: right;\">            0.316992</td><td style=\"text-align: right;\">          0.316992</td><td style=\"text-align: right;\">      0.316992</td><td style=\"text-align: right;\"> 1682653960</td><td style=\"text-align: right;\">                   1</td><td>4a723_00015</td></tr>\n<tr><td>train_mnist_4a723_00016</td><td>2023-04-28_03-52-41</td><td>True  </td><td>7a537cc00f9f465e84e4fc26b8f5bbe9000003</td><td style=\"text-align: right;\">                         4</td><td style=\"text-align: right;\">       0.228125</td><td>10.0.0.5 </td><td style=\"text-align: right;\">  207</td><td style=\"text-align: right;\">            1.15351 </td><td style=\"text-align: right;\">          0.274176</td><td style=\"text-align: right;\">      1.15351 </td><td style=\"text-align: right;\"> 1682653961</td><td style=\"text-align: right;\">                   4</td><td>4a723_00016</td></tr>\n<tr><td>train_mnist_4a723_00017</td><td>2023-04-28_03-52-42</td><td>True  </td><td>7a537cc00f9f465e84e4fc26b8f5bbe9000003</td><td style=\"text-align: right;\">                         1</td><td style=\"text-align: right;\">       0.1     </td><td>10.0.0.5 </td><td style=\"text-align: right;\">  207</td><td style=\"text-align: right;\">            0.311747</td><td style=\"text-align: right;\">          0.311747</td><td style=\"text-align: right;\">      0.311747</td><td style=\"text-align: right;\"> 1682653962</td><td style=\"text-align: right;\">                   1</td><td>4a723_00017</td></tr>\n<tr><td>train_mnist_4a723_00018</td><td>2023-04-28_03-52-42</td><td>True  </td><td>7a537cc00f9f465e84e4fc26b8f5bbe9000003</td><td style=\"text-align: right;\">                         1</td><td style=\"text-align: right;\">       0.1375  </td><td>10.0.0.5 </td><td style=\"text-align: right;\">  207</td><td style=\"text-align: right;\">            0.311371</td><td style=\"text-align: right;\">          0.311371</td><td style=\"text-align: right;\">      0.311371</td><td style=\"text-align: right;\"> 1682653962</td><td style=\"text-align: right;\">                   1</td><td>4a723_00018</td></tr>\n<tr><td>train_mnist_4a723_00019</td><td>2023-04-28_03-52-43</td><td>True  </td><td>7a537cc00f9f465e84e4fc26b8f5bbe9000003</td><td style=\"text-align: right;\">                         1</td><td style=\"text-align: right;\">       0.11875 </td><td>10.0.0.5 </td><td style=\"text-align: right;\">  207</td><td style=\"text-align: right;\">            0.32115 </td><td style=\"text-align: right;\">          0.32115 </td><td style=\"text-align: right;\">      0.32115 </td><td style=\"text-align: right;\"> 1682653963</td><td style=\"text-align: right;\">                   1</td><td>4a723_00019</td></tr>\n<tr><td>train_mnist_4a723_00020</td><td>2023-04-28_03-52-43</td><td>True  </td><td>7a537cc00f9f465e84e4fc26b8f5bbe9000003</td><td style=\"text-align: right;\">                         1</td><td style=\"text-align: right;\">       0.134375</td><td>10.0.0.5 </td><td style=\"text-align: right;\">  207</td><td style=\"text-align: right;\">            0.31627 </td><td style=\"text-align: right;\">          0.31627 </td><td style=\"text-align: right;\">      0.31627 </td><td style=\"text-align: right;\"> 1682653963</td><td style=\"text-align: right;\">                   1</td><td>4a723_00020</td></tr>\n<tr><td>train_mnist_4a723_00021</td><td>2023-04-28_03-52-43</td><td>True  </td><td>7a537cc00f9f465e84e4fc26b8f5bbe9000003</td><td style=\"text-align: right;\">                         1</td><td style=\"text-align: right;\">       0.08125 </td><td>10.0.0.5 </td><td style=\"text-align: right;\">  207</td><td style=\"text-align: right;\">            0.313821</td><td style=\"text-align: right;\">          0.313821</td><td style=\"text-align: right;\">      0.313821</td><td style=\"text-align: right;\"> 1682653963</td><td style=\"text-align: right;\">                   1</td><td>4a723_00021</td></tr>\n<tr><td>train_mnist_4a723_00022</td><td>2023-04-28_03-52-44</td><td>True  </td><td>7a537cc00f9f465e84e4fc26b8f5bbe9000003</td><td style=\"text-align: right;\">                         1</td><td style=\"text-align: right;\">       0.084375</td><td>10.0.0.5 </td><td style=\"text-align: right;\">  207</td><td style=\"text-align: right;\">            0.325218</td><td style=\"text-align: right;\">          0.325218</td><td style=\"text-align: right;\">      0.325218</td><td style=\"text-align: right;\"> 1682653964</td><td style=\"text-align: right;\">                   1</td><td>4a723_00022</td></tr>\n<tr><td>train_mnist_4a723_00023</td><td>2023-04-28_03-52-44</td><td>True  </td><td>7a537cc00f9f465e84e4fc26b8f5bbe9000003</td><td style=\"text-align: right;\">                         1</td><td style=\"text-align: right;\">       0.090625</td><td>10.0.0.5 </td><td style=\"text-align: right;\">  207</td><td style=\"text-align: right;\">            0.324813</td><td style=\"text-align: right;\">          0.324813</td><td style=\"text-align: right;\">      0.324813</td><td style=\"text-align: right;\"> 1682653964</td><td style=\"text-align: right;\">                   1</td><td>4a723_00023</td></tr>\n<tr><td>train_mnist_4a723_00024</td><td>2023-04-28_03-53-12</td><td>True  </td><td>7a537cc00f9f465e84e4fc26b8f5bbe9000003</td><td style=\"text-align: right;\">                       100</td><td style=\"text-align: right;\">       0.95    </td><td>10.0.0.5 </td><td style=\"text-align: right;\">  207</td><td style=\"text-align: right;\">           28.1951  </td><td style=\"text-align: right;\">          0.2656  </td><td style=\"text-align: right;\">     28.1951  </td><td style=\"text-align: right;\"> 1682653992</td><td style=\"text-align: right;\">                 100</td><td>4a723_00024</td></tr>\n<tr><td>train_mnist_4a723_00025</td><td>2023-04-28_03-53-02</td><td>True  </td><td>7a537cc00f9f465e84e4fc26b8f5bbe9000002</td><td style=\"text-align: right;\">                         4</td><td style=\"text-align: right;\">       0.146875</td><td>10.0.0.4 </td><td style=\"text-align: right;\">  211</td><td style=\"text-align: right;\">            1.14402 </td><td style=\"text-align: right;\">          0.272509</td><td style=\"text-align: right;\">      1.14402 </td><td style=\"text-align: right;\"> 1682653982</td><td style=\"text-align: right;\">                   4</td><td>4a723_00025</td></tr>\n<tr><td>train_mnist_4a723_00026</td><td>2023-04-28_03-53-02</td><td>True  </td><td>7a537cc00f9f465e84e4fc26b8f5bbe9000002</td><td style=\"text-align: right;\">                         1</td><td style=\"text-align: right;\">       0.103125</td><td>10.0.0.4 </td><td style=\"text-align: right;\">  211</td><td style=\"text-align: right;\">            0.311784</td><td style=\"text-align: right;\">          0.311784</td><td style=\"text-align: right;\">      0.311784</td><td style=\"text-align: right;\"> 1682653982</td><td style=\"text-align: right;\">                   1</td><td>4a723_00026</td></tr>\n<tr><td>train_mnist_4a723_00027</td><td>2023-04-28_03-53-03</td><td>True  </td><td>7a537cc00f9f465e84e4fc26b8f5bbe9000002</td><td style=\"text-align: right;\">                         1</td><td style=\"text-align: right;\">       0.115625</td><td>10.0.0.4 </td><td style=\"text-align: right;\">  211</td><td style=\"text-align: right;\">            0.313933</td><td style=\"text-align: right;\">          0.313933</td><td style=\"text-align: right;\">      0.313933</td><td style=\"text-align: right;\"> 1682653983</td><td style=\"text-align: right;\">                   1</td><td>4a723_00027</td></tr>\n<tr><td>train_mnist_4a723_00028</td><td>2023-04-28_03-53-03</td><td>True  </td><td>7a537cc00f9f465e84e4fc26b8f5bbe9000002</td><td style=\"text-align: right;\">                         1</td><td style=\"text-align: right;\">       0.090625</td><td>10.0.0.4 </td><td style=\"text-align: right;\">  211</td><td style=\"text-align: right;\">            0.32011 </td><td style=\"text-align: right;\">          0.32011 </td><td style=\"text-align: right;\">      0.32011 </td><td style=\"text-align: right;\"> 1682653983</td><td style=\"text-align: right;\">                   1</td><td>4a723_00028</td></tr>\n<tr><td>train_mnist_4a723_00029</td><td>2023-04-28_03-53-04</td><td>True  </td><td>7a537cc00f9f465e84e4fc26b8f5bbe9000002</td><td style=\"text-align: right;\">                         4</td><td style=\"text-align: right;\">       0.453125</td><td>10.0.0.4 </td><td style=\"text-align: right;\">  211</td><td style=\"text-align: right;\">            1.14284 </td><td style=\"text-align: right;\">          0.269465</td><td style=\"text-align: right;\">      1.14284 </td><td style=\"text-align: right;\"> 1682653984</td><td style=\"text-align: right;\">                   4</td><td>4a723_00029</td></tr>\n<tr><td>train_mnist_4a723_00030</td><td>2023-04-28_03-53-05</td><td>True  </td><td>7a537cc00f9f465e84e4fc26b8f5bbe9000002</td><td style=\"text-align: right;\">                         1</td><td style=\"text-align: right;\">       0.125   </td><td>10.0.0.4 </td><td style=\"text-align: right;\">  211</td><td style=\"text-align: right;\">            0.309515</td><td style=\"text-align: right;\">          0.309515</td><td style=\"text-align: right;\">      0.309515</td><td style=\"text-align: right;\"> 1682653985</td><td style=\"text-align: right;\">                   1</td><td>4a723_00030</td></tr>\n<tr><td>train_mnist_4a723_00031</td><td>2023-04-28_03-53-05</td><td>True  </td><td>7a537cc00f9f465e84e4fc26b8f5bbe9000002</td><td style=\"text-align: right;\">                         1</td><td style=\"text-align: right;\">       0.08125 </td><td>10.0.0.4 </td><td style=\"text-align: right;\">  211</td><td style=\"text-align: right;\">            0.313185</td><td style=\"text-align: right;\">          0.313185</td><td style=\"text-align: right;\">      0.313185</td><td style=\"text-align: right;\"> 1682653985</td><td style=\"text-align: right;\">                   1</td><td>4a723_00031</td></tr>\n<tr><td>train_mnist_4a723_00032</td><td>2023-04-28_03-53-05</td><td>True  </td><td>7a537cc00f9f465e84e4fc26b8f5bbe9000002</td><td style=\"text-align: right;\">                         1</td><td style=\"text-align: right;\">       0.11875 </td><td>10.0.0.4 </td><td style=\"text-align: right;\">  211</td><td style=\"text-align: right;\">            0.311908</td><td style=\"text-align: right;\">          0.311908</td><td style=\"text-align: right;\">      0.311908</td><td style=\"text-align: right;\"> 1682653985</td><td style=\"text-align: right;\">                   1</td><td>4a723_00032</td></tr>\n<tr><td>train_mnist_4a723_00033</td><td>2023-04-28_03-53-06</td><td>True  </td><td>7a537cc00f9f465e84e4fc26b8f5bbe9000002</td><td style=\"text-align: right;\">                         1</td><td style=\"text-align: right;\">       0.096875</td><td>10.0.0.4 </td><td style=\"text-align: right;\">  211</td><td style=\"text-align: right;\">            0.321941</td><td style=\"text-align: right;\">          0.321941</td><td style=\"text-align: right;\">      0.321941</td><td style=\"text-align: right;\"> 1682653986</td><td style=\"text-align: right;\">                   1</td><td>4a723_00033</td></tr>\n<tr><td>train_mnist_4a723_00034</td><td>2023-04-28_03-53-06</td><td>True  </td><td>7a537cc00f9f465e84e4fc26b8f5bbe9000002</td><td style=\"text-align: right;\">                         1</td><td style=\"text-align: right;\">       0.08125 </td><td>10.0.0.4 </td><td style=\"text-align: right;\">  211</td><td style=\"text-align: right;\">            0.31574 </td><td style=\"text-align: right;\">          0.31574 </td><td style=\"text-align: right;\">      0.31574 </td><td style=\"text-align: right;\"> 1682653986</td><td style=\"text-align: right;\">                   1</td><td>4a723_00034</td></tr>\n<tr><td>train_mnist_4a723_00035</td><td>2023-04-28_03-53-06</td><td>True  </td><td>7a537cc00f9f465e84e4fc26b8f5bbe9000002</td><td style=\"text-align: right;\">                         1</td><td style=\"text-align: right;\">       0.096875</td><td>10.0.0.4 </td><td style=\"text-align: right;\">  211</td><td style=\"text-align: right;\">            0.316587</td><td style=\"text-align: right;\">          0.316587</td><td style=\"text-align: right;\">      0.316587</td><td style=\"text-align: right;\"> 1682653986</td><td style=\"text-align: right;\">                   1</td><td>4a723_00035</td></tr>\n<tr><td>train_mnist_4a723_00036</td><td>2023-04-28_03-53-07</td><td>True  </td><td>7a537cc00f9f465e84e4fc26b8f5bbe9000002</td><td style=\"text-align: right;\">                         1</td><td style=\"text-align: right;\">       0.1125  </td><td>10.0.0.4 </td><td style=\"text-align: right;\">  211</td><td style=\"text-align: right;\">            0.31436 </td><td style=\"text-align: right;\">          0.31436 </td><td style=\"text-align: right;\">      0.31436 </td><td style=\"text-align: right;\"> 1682653987</td><td style=\"text-align: right;\">                   1</td><td>4a723_00036</td></tr>\n<tr><td>train_mnist_4a723_00037</td><td>2023-04-28_03-53-07</td><td>True  </td><td>7a537cc00f9f465e84e4fc26b8f5bbe9000002</td><td style=\"text-align: right;\">                         1</td><td style=\"text-align: right;\">       0.090625</td><td>10.0.0.4 </td><td style=\"text-align: right;\">  211</td><td style=\"text-align: right;\">            0.316125</td><td style=\"text-align: right;\">          0.316125</td><td style=\"text-align: right;\">      0.316125</td><td style=\"text-align: right;\"> 1682653987</td><td style=\"text-align: right;\">                   1</td><td>4a723_00037</td></tr>\n<tr><td>train_mnist_4a723_00038</td><td>2023-04-28_03-53-08</td><td>True  </td><td>7a537cc00f9f465e84e4fc26b8f5bbe9000002</td><td style=\"text-align: right;\">                         4</td><td style=\"text-align: right;\">       0.16875 </td><td>10.0.0.4 </td><td style=\"text-align: right;\">  211</td><td style=\"text-align: right;\">            1.14033 </td><td style=\"text-align: right;\">          0.26675 </td><td style=\"text-align: right;\">      1.14033 </td><td style=\"text-align: right;\"> 1682653988</td><td style=\"text-align: right;\">                   4</td><td>4a723_00038</td></tr>\n<tr><td>train_mnist_4a723_00039</td><td>2023-04-28_03-53-09</td><td>True  </td><td>7a537cc00f9f465e84e4fc26b8f5bbe9000002</td><td style=\"text-align: right;\">                         1</td><td style=\"text-align: right;\">       0.06875 </td><td>10.0.0.4 </td><td style=\"text-align: right;\">  211</td><td style=\"text-align: right;\">            0.307402</td><td style=\"text-align: right;\">          0.307402</td><td style=\"text-align: right;\">      0.307402</td><td style=\"text-align: right;\"> 1682653989</td><td style=\"text-align: right;\">                   1</td><td>4a723_00039</td></tr>\n<tr><td>train_mnist_4a723_00040</td><td>2023-04-28_03-53-09</td><td>True  </td><td>7a537cc00f9f465e84e4fc26b8f5bbe9000002</td><td style=\"text-align: right;\">                         1</td><td style=\"text-align: right;\">       0.125   </td><td>10.0.0.4 </td><td style=\"text-align: right;\">  211</td><td style=\"text-align: right;\">            0.306788</td><td style=\"text-align: right;\">          0.306788</td><td style=\"text-align: right;\">      0.306788</td><td style=\"text-align: right;\"> 1682653989</td><td style=\"text-align: right;\">                   1</td><td>4a723_00040</td></tr>\n<tr><td>train_mnist_4a723_00041</td><td>2023-04-28_03-53-10</td><td>True  </td><td>7a537cc00f9f465e84e4fc26b8f5bbe9000002</td><td style=\"text-align: right;\">                         4</td><td style=\"text-align: right;\">       0.146875</td><td>10.0.0.4 </td><td style=\"text-align: right;\">  211</td><td style=\"text-align: right;\">            1.15608 </td><td style=\"text-align: right;\">          0.268129</td><td style=\"text-align: right;\">      1.15608 </td><td style=\"text-align: right;\"> 1682653990</td><td style=\"text-align: right;\">                   4</td><td>4a723_00041</td></tr>\n<tr><td>train_mnist_4a723_00042</td><td>2023-04-28_03-53-11</td><td>True  </td><td>7a537cc00f9f465e84e4fc26b8f5bbe9000002</td><td style=\"text-align: right;\">                         1</td><td style=\"text-align: right;\">       0.109375</td><td>10.0.0.4 </td><td style=\"text-align: right;\">  211</td><td style=\"text-align: right;\">            0.307916</td><td style=\"text-align: right;\">          0.307916</td><td style=\"text-align: right;\">      0.307916</td><td style=\"text-align: right;\"> 1682653991</td><td style=\"text-align: right;\">                   1</td><td>4a723_00042</td></tr>\n<tr><td>train_mnist_4a723_00043</td><td>2023-04-28_03-53-11</td><td>True  </td><td>7a537cc00f9f465e84e4fc26b8f5bbe9000002</td><td style=\"text-align: right;\">                         1</td><td style=\"text-align: right;\">       0.096875</td><td>10.0.0.4 </td><td style=\"text-align: right;\">  211</td><td style=\"text-align: right;\">            0.311304</td><td style=\"text-align: right;\">          0.311304</td><td style=\"text-align: right;\">      0.311304</td><td style=\"text-align: right;\"> 1682653991</td><td style=\"text-align: right;\">                   1</td><td>4a723_00043</td></tr>\n<tr><td>train_mnist_4a723_00044</td><td>2023-04-28_03-53-12</td><td>True  </td><td>7a537cc00f9f465e84e4fc26b8f5bbe9000002</td><td style=\"text-align: right;\">                         1</td><td style=\"text-align: right;\">       0.06875 </td><td>10.0.0.4 </td><td style=\"text-align: right;\">  211</td><td style=\"text-align: right;\">            0.312923</td><td style=\"text-align: right;\">          0.312923</td><td style=\"text-align: right;\">      0.312923</td><td style=\"text-align: right;\"> 1682653992</td><td style=\"text-align: right;\">                   1</td><td>4a723_00044</td></tr>\n<tr><td>train_mnist_4a723_00045</td><td>2023-04-28_03-53-12</td><td>True  </td><td>7a537cc00f9f465e84e4fc26b8f5bbe9000002</td><td style=\"text-align: right;\">                         1</td><td style=\"text-align: right;\">       0.078125</td><td>10.0.0.4 </td><td style=\"text-align: right;\">  211</td><td style=\"text-align: right;\">            0.309805</td><td style=\"text-align: right;\">          0.309805</td><td style=\"text-align: right;\">      0.309805</td><td style=\"text-align: right;\"> 1682653992</td><td style=\"text-align: right;\">                   1</td><td>4a723_00045</td></tr>\n<tr><td>train_mnist_4a723_00046</td><td>2023-04-28_03-53-13</td><td>True  </td><td>7a537cc00f9f465e84e4fc26b8f5bbe9000002</td><td style=\"text-align: right;\">                         4</td><td style=\"text-align: right;\">       0.325   </td><td>10.0.0.4 </td><td style=\"text-align: right;\">  211</td><td style=\"text-align: right;\">            1.15748 </td><td style=\"text-align: right;\">          0.26818 </td><td style=\"text-align: right;\">      1.15748 </td><td style=\"text-align: right;\"> 1682653993</td><td style=\"text-align: right;\">                   4</td><td>4a723_00046</td></tr>\n<tr><td>train_mnist_4a723_00047</td><td>2023-04-28_03-53-13</td><td>True  </td><td>7a537cc00f9f465e84e4fc26b8f5bbe9000003</td><td style=\"text-align: right;\">                         1</td><td style=\"text-align: right;\">       0.046875</td><td>10.0.0.5 </td><td style=\"text-align: right;\">  207</td><td style=\"text-align: right;\">            0.311591</td><td style=\"text-align: right;\">          0.311591</td><td style=\"text-align: right;\">      0.311591</td><td style=\"text-align: right;\"> 1682653993</td><td style=\"text-align: right;\">                   1</td><td>4a723_00047</td></tr>\n<tr><td>train_mnist_4a723_00048</td><td>2023-04-28_03-53-13</td><td>True  </td><td>7a537cc00f9f465e84e4fc26b8f5bbe9000003</td><td style=\"text-align: right;\">                         1</td><td style=\"text-align: right;\">       0.096875</td><td>10.0.0.5 </td><td style=\"text-align: right;\">  207</td><td style=\"text-align: right;\">            0.311632</td><td style=\"text-align: right;\">          0.311632</td><td style=\"text-align: right;\">      0.311632</td><td style=\"text-align: right;\"> 1682653993</td><td style=\"text-align: right;\">                   1</td><td>4a723_00048</td></tr>\n<tr><td>train_mnist_4a723_00049</td><td>2023-04-28_03-53-14</td><td>True  </td><td>7a537cc00f9f465e84e4fc26b8f5bbe9000003</td><td style=\"text-align: right;\">                         4</td><td style=\"text-align: right;\">       0.33125 </td><td>10.0.0.5 </td><td style=\"text-align: right;\">  207</td><td style=\"text-align: right;\">            1.56062 </td><td style=\"text-align: right;\">          0.287988</td><td style=\"text-align: right;\">      1.56062 </td><td style=\"text-align: right;\"> 1682653994</td><td style=\"text-align: right;\">                   4</td><td>4a723_00049</td></tr>\n</tbody>\n</table>\n</div>\n<style>\n.trialProgress {\n  display: flex;\n  flex-direction: column;\n  color: var(--jp-ui-font-color1);\n}\n.trialProgress h3 {\n  font-weight: bold;\n}\n.trialProgress td {\n  white-space: nowrap;\n}\n</style>\n"
          },
          "metadata": {}
        },
        {
          "output_type": "stream",
          "name": "stderr",
          "text": "2023-04-28 03:53:16,167\tINFO tune.py:945 -- Total run time: 1681.56 seconds (1680.60 seconds for the tuning loop).\n"
        },
        {
          "output_type": "stream",
          "name": "stdout",
          "text": "Best config is: {'lr': 0.007336481579534608, 'momentum': 0.7151465086180758}\n"
        }
      ],
      "execution_count": 8,
      "metadata": {
        "jupyter": {
          "outputs_hidden": false,
          "source_hidden": false
        },
        "nteract": {
          "transient": {
            "deleting": false
          }
        }
      }
    },
    {
      "cell_type": "markdown",
      "source": [
        "### Show Ray cluster resources"
      ],
      "metadata": {
        "nteract": {
          "transient": {
            "deleting": false
          }
        }
      }
    },
    {
      "cell_type": "code",
      "source": [
        "ray.cluster_resources()"
      ],
      "outputs": [
        {
          "output_type": "execute_result",
          "execution_count": 9,
          "data": {
            "text/plain": "{'object_store_memory': 25599780454.0,\n 'accelerator_type:P40': 2.0,\n 'GPU': 2.0,\n 'memory': 227431527630.0,\n 'node:10.0.0.5': 1.0,\n 'CPU': 16.0,\n 'node:10.0.0.4': 1.0,\n 'node:10.0.0.12': 1.0}"
          },
          "metadata": {}
        }
      ],
      "execution_count": 9,
      "metadata": {
        "gather": {
          "logged": 1682654040765
        },
        "jupyter": {
          "outputs_hidden": false,
          "source_hidden": false
        },
        "nteract": {
          "transient": {
            "deleting": false
          }
        }
      }
    },
    {
      "cell_type": "markdown",
      "source": [
        "## Shutdown the head and worker node"
      ],
      "metadata": {
        "nteract": {
          "transient": {
            "deleting": false
          }
        }
      }
    },
    {
      "cell_type": "code",
      "source": [
        "# shutdown head node\n",
        "ray.shutdown()\n",
        "\n",
        "# cancel worker job would automaticlaly shutdown worker node\n",
        "poller = ml_client.jobs.begin_cancel(name=active_job.name)\n",
        "\n",
        "# wait until job cancelled\n",
        "poller.wait()"
      ],
      "outputs": [
        {
          "output_type": "stream",
          "name": "stdout",
          "text": "\u001b[2m\u001b[36m(train_mnist pid=207, ip=10.0.0.5)\u001b[0m Downloading http://yann.lecun.com/exdb/mnist/t10k-labels-idx1-ubyte.gz\u001b[32m [repeated 7x across cluster] (Ray deduplicates logs by default. Set RAY_DEDUP_LOGS=0 to disable log deduplication, or see https://docs.ray.io/en/master/ray-observability/ray-logging.html#log-deduplication for more options.)\u001b[0m\n\u001b[2m\u001b[36m(train_mnist pid=211, ip=10.0.0.4)\u001b[0m Downloading http://yann.lecun.com/exdb/mnist/t10k-labels-idx1-ubyte.gz to /root/data/MNIST/raw/t10k-labels-idx1-ubyte.gz\u001b[32m [repeated 7x across cluster]\u001b[0m\n\u001b[2m\u001b[36m(train_mnist pid=211, ip=10.0.0.4)\u001b[0m Extracting /root/data/MNIST/raw/t10k-labels-idx1-ubyte.gz to /root/data/MNIST/raw\u001b[32m [repeated 7x across cluster]\u001b[0m\n\u001b[2m\u001b[36m(train_mnist pid=211, ip=10.0.0.4)\u001b[0m \u001b[32m [repeated 6x across cluster]\u001b[0m\n"
        },
        {
          "output_type": "stream",
          "name": "stderr",
          "text": "\u001b[2m\u001b[36m(train_mnist pid=211, ip=10.0.0.4)\u001b[0m \r100.0%\u001b[32m [repeated 8x across cluster]\u001b[0m\n"
        }
      ],
      "execution_count": 10,
      "metadata": {
        "gather": {
          "logged": 1682654040962
        },
        "jupyter": {
          "outputs_hidden": false,
          "source_hidden": false
        },
        "nteract": {
          "transient": {
            "deleting": false
          }
        }
      }
    },
    {
      "cell_type": "code",
      "source": [],
      "outputs": [],
      "execution_count": null,
      "metadata": {
        "jupyter": {
          "source_hidden": false,
          "outputs_hidden": false
        },
        "nteract": {
          "transient": {
            "deleting": false
          }
        }
      }
    }
  ],
  "metadata": {
    "kernel_info": {
      "name": "python38-azureml-pt-tf"
    },
    "kernelspec": {
      "name": "python38-azureml-pt-tf",
      "language": "python",
      "display_name": "Python 3.8 - Pytorch and Tensorflow"
    },
    "language_info": {
      "name": "python",
      "version": "3.8.5",
      "mimetype": "text/x-python",
      "codemirror_mode": {
        "name": "ipython",
        "version": 3
      },
      "pygments_lexer": "ipython3",
      "nbconvert_exporter": "python",
      "file_extension": ".py"
    },
    "microsoft": {
      "host": {
        "AzureML": {
          "notebookHasBeenCompleted": true
        }
      },
      "ms_spell_check": {
        "ms_spell_check_language": "en"
      }
    },
    "nteract": {
      "version": "nteract-front-end@1.0.0"
    }
  },
  "nbformat": 4,
  "nbformat_minor": 2
}