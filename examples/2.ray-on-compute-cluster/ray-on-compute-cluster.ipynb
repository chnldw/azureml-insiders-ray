{
  "cells": [
    {
      "cell_type": "markdown",
      "source": [
        "# Ray on compute cluster\n",
        "\n",
        "In [ray-on-compute-instance notebook](../1.ray-on-compute-instance/ray-on-compute-instance.ipynb), you learned how to start a local Ray cluster and interactively execute Ray script on compute instance.\n",
        "\n",
        "In this notebook, you would learn how to submit a distributed training job with Ray cluster enabled onto multi-nodes Azure ML compute clusters.\n",
        "\n",
        "The user should have completed the Azure Machine Learning Tutorial: [Get started creating your first ML experiment with the Python SDK](https://docs.microsoft.com/en-us/azure/machine-learning/tutorial-1st-experiment-sdk-setup). "
      ],
      "metadata": {
        "nteract": {
          "transient": {
            "deleting": false
          }
        }
      }
    },
    {
      "cell_type": "markdown",
      "source": [
        "## Import required libraries"
      ],
      "metadata": {
        "nteract": {
          "transient": {
            "deleting": false
          }
        }
      }
    },
    {
      "cell_type": "code",
      "source": [
        "# import required libraries\n",
        "from azure.identity import DefaultAzureCredential\n",
        "\n",
        "from azure.ai.ml import MLClient, command\n",
        "from azure.ai.ml.entities import Environment, BuildContext"
      ],
      "outputs": [],
      "execution_count": 1,
      "metadata": {
        "gather": {
          "logged": 1682528607097
        },
        "jupyter": {
          "outputs_hidden": false,
          "source_hidden": false
        },
        "nteract": {
          "transient": {
            "deleting": false
          }
        }
      }
    },
    {
      "cell_type": "markdown",
      "source": [
        "## Connect to workspace using DefaultAzureCredential\n",
        "`DefaultAzureCredential` should be capable of handling most Azure SDK authentication scenarios. \n",
        "\n",
        "Reference for more available credentials if it does not work for you: [azure-identity reference doc](https://docs.microsoft.com/en-us/python/api/azure-identity/azure.identity?view=azure-python)."
      ],
      "metadata": {
        "nteract": {
          "transient": {
            "deleting": false
          }
        }
      }
    },
    {
      "cell_type": "code",
      "source": [
        "credential = DefaultAzureCredential()\n",
        "ml_client = None\n",
        "try:\n",
        "    ml_client = MLClient.from_config(credential)\n",
        "    workspace = ml_client.workspace_name\n",
        "    subscription_id = ml_client.workspaces.get(workspace).id.split(\"/\")[2]\n",
        "    resource_group = ml_client.workspaces.get(workspace).resource_group\n",
        "except Exception as ex:\n",
        "    print(ex)\n",
        "    # Enter details of your AML workspace\n",
        "    subscription_id = \"<SUBSCRIPTION_ID>\"\n",
        "    resource_group = \"<RESOURCE_GROUP>\"\n",
        "    workspace = \"<AML_WORKSPACE_NAME>\"\n",
        "    ml_client = MLClient(credential, subscription_id, resource_group, workspace)"
      ],
      "outputs": [],
      "execution_count": 2,
      "metadata": {
        "gather": {
          "logged": 1682558120807
        },
        "jupyter": {
          "outputs_hidden": false,
          "source_hidden": false
        },
        "nteract": {
          "transient": {
            "deleting": false
          }
        }
      }
    },
    {
      "cell_type": "markdown",
      "source": [
        "## Prepare the training script\n",
        "We would use the PyTorch example from Ray:\n",
        "[https://github.com/ray-project/ray/blob/master/python/ray/tune/examples/mnist_pytorch.py](https://github.com/ray-project/ray/blob/master/python/ray/tune/examples/mnist_pytorch.py)\n",
        "\n",
        "Script is downloaded into [src/mnist_pytorch.py](./src/mnist_pytorch.py)"
      ],
      "metadata": {
        "nteract": {
          "transient": {
            "deleting": false
          }
        }
      }
    },
    {
      "cell_type": "markdown",
      "source": [
        "## Configure and Run Command\n",
        "\n",
        "In this section we will be configuring and running a distributed training `Command` job.\n",
        "\n",
        "The `command` allows user to configure the following key aspects.\n",
        "- `code` - This is the path where the code to run the command is located.\n",
        "- `command` - This is the command that needs to be run. In this example, we would execute `mnist_pytorch.py` we downloaded from [ray github repo](https://github.com/ray-project/ray/blob/master/python/ray/tune/examples/mnist_pytorch.py).\n",
        "- `environment` - This is the environment needed for the command to run. In this example, we would use `rayproject/ray-ml` image provided by `ray`.\n",
        "- `compute` - The compute on which the command will run. In this example, compute is not specified which means it would use `serverless` compute.\n",
        "- `instance_type` - VMSize of the `serverless` compute. In this example, we would use `Standard_DS3_v2` cpu cluster.\n",
        "- `instance_count` - The number of nodes to use for the job. In this example, we would scale `2` nodes.\n",
        "- `distribution` - Distribution configuration for distributed training scenarios. In this example, we would set it to `ray`. Azure ML job engine would setup Ray cluster automatically.\n",
        "  - `port` - \\[Optional\\] The port of the head ray process. Default is `6379`\n",
        "  - `address` - \\[Optional\\] The address of Ray head node.\n",
        "  - `include_dashboard` - \\[Optional\\] Provide this argument to start the Ray dashboard GUI. Default is `True`\n",
        "  - `dashboard_port` - \\[Optional\\] The port to bind the dashboard server to. Default is `8265`\n",
        "  - `head_node_additional_args` - \\[Optional\\] Additional arguments passed to ray start in head node.\n",
        "  - `worker_node_additional_args` - \\[Optional\\] Additional arguments passed to ray start in worker node."
      ],
      "metadata": {
        "nteract": {
          "transient": {
            "deleting": false
          }
        }
      }
    },
    {
      "cell_type": "code",
      "source": [
        "job = command(\n",
        "    experiment_name=\"mnist_pytorch\",\n",
        "    code=\"./src\",  # local path where the code is stored\n",
        "    command=\"python mnist_pytorch.py;\",\n",
        "    environment=Environment(\n",
        "        image=\"rayproject/ray:2.4.0-py38-cpu\"\n",
        "    ),\n",
        "    # environment=\"ray-env\",\n",
        "    # compute=\"azureml:cpu-cluster\",\n",
        "    instance_type=\"Standard_DS3_v2\",\n",
        "    instance_count=2,  # In this, only 2 node cluster was created.\n",
        "    distribution={\n",
        "        \"type\": \"ray\",\n",
        "        # \"port\": 6379, # [Optional] The port of the head ray process.\n",
        "        # \"include_dashboard\": True, # [Optional] The port of the head ray process.\n",
        "        # \"dashboard_port\": 8265, # [Optional] The port of the head ray process.\n",
        "        # \"head_node_additional_args\": \"--verbose\", # [Optional] Additional arguments passed to ray start in head node.\n",
        "        # \"worker_node_additional_args\": \"--verbose\", # [Optional] Additional arguments passed to ray start in head node.\n",
        "    },\n",
        ")"
      ],
      "outputs": [],
      "execution_count": 7,
      "metadata": {
        "gather": {
          "logged": 1682559055805
        },
        "jupyter": {
          "outputs_hidden": false,
          "source_hidden": false
        },
        "nteract": {
          "transient": {
            "deleting": false
          }
        }
      }
    },
    {
      "cell_type": "markdown",
      "source": [
        "## Submit the job"
      ],
      "metadata": {
        "nteract": {
          "transient": {
            "deleting": false
          }
        }
      }
    },
    {
      "cell_type": "code",
      "source": [
        "active_job = ml_client.jobs.create_or_update(job)\n",
        "\n",
        "active_job"
      ],
      "outputs": [
        {
          "output_type": "execute_result",
          "execution_count": 8,
          "data": {
            "text/plain": "Command({'parameters': {}, 'init': False, 'name': 'red_island_t1r4byfbcd', 'type': 'command', 'status': 'Starting', 'log_files': None, 'description': None, 'tags': {}, 'properties': {'_azureml.ComputeTargetType': 'amlctrain', 'ContentSnapshotId': '21cf16c1-69fa-4a8a-9474-459db2ca73e7'}, 'print_as_yaml': True, 'id': '/subscriptions/381b38e9-9840-4719-a5a0-61d9585e1e91/resourceGroups/daweil_canary/providers/Microsoft.MachineLearningServices/workspaces/daweil_canary/jobs/red_island_t1r4byfbcd', 'Resource__source_path': None, 'base_path': '/mnt/batch/tasks/shared/LS_root/mounts/clusters/ray/code/Users/daweil/ray/azureml-insiders/examples/2.ray-on-compute-cluster', 'creation_context': <azure.ai.ml.entities._system_data.SystemData object at 0x7f49d904ff10>, 'serialize': <msrest.serialization.Serializer object at 0x7f49d904fd30>, 'allowed_keys': {}, 'key_restriction': False, 'logger': <Logger attr_dict (WARNING)>, 'display_name': 'red_island_t1r4byfbcd', 'experiment_name': 'mnist_pytorch', 'compute': None, 'services': {'Tracking': {'endpoint': 'azureml://eastus2euap.api.azureml.ms/mlflow/v1.0/subscriptions/381b38e9-9840-4719-a5a0-61d9585e1e91/resourceGroups/daweil_canary/providers/Microsoft.MachineLearningServices/workspaces/daweil_canary?', 'type': 'Tracking'}, 'Studio': {'endpoint': 'https://ml.azure.com/runs/red_island_t1r4byfbcd?wsid=/subscriptions/381b38e9-9840-4719-a5a0-61d9585e1e91/resourcegroups/daweil_canary/workspaces/daweil_canary&tid=72f988bf-86f1-41af-91ab-2d7cd011db47', 'type': 'Studio'}}, 'comment': None, 'job_inputs': {}, 'job_outputs': {'default': {'type': 'uri_folder', 'path': 'azureml://datastores/workspaceartifactstore/ExperimentRun/dcid.red_island_t1r4byfbcd', 'mode': 'rw_mount'}}, 'inputs': {}, 'outputs': {'default': <azure.ai.ml.entities._job.pipeline._io.base.NodeOutput object at 0x7f49d904fca0>}, 'component': CommandComponent({'intellectual_property': None, 'auto_increment_version': True, 'source': 'REMOTE.WORKSPACE.JOB', 'is_anonymous': False, 'name': 'red_island_t1r4byfbcd', 'description': None, 'tags': {}, 'properties': {}, 'print_as_yaml': True, 'id': None, 'Resource__source_path': None, 'base_path': PosixPath('.'), 'creation_context': <azure.ai.ml.entities._system_data.SystemData object at 0x7f49d904ff10>, 'serialize': <msrest.serialization.Serializer object at 0x7f49d904f8b0>, 'command': 'python mnist_pytorch.py;', 'code': '/subscriptions/381b38e9-9840-4719-a5a0-61d9585e1e91/resourceGroups/daweil_canary/providers/Microsoft.MachineLearningServices/workspaces/daweil_canary/codes/2e2165c4-b706-4287-a48d-aa08a0911333/versions/1', 'environment_variables': {}, 'environment': '/subscriptions/381b38e9-9840-4719-a5a0-61d9585e1e91/resourceGroups/daweil_canary/providers/Microsoft.MachineLearningServices/workspaces/daweil_canary/environments/CliV2AnonymousEnvironment/versions/d4ef9d1e763196942ef327f633eb1dab', 'distribution': <azure.ai.ml.entities._job.distribution.RayDistribution object at 0x7f49d904f760>, 'resources': None, 'queue_settings': None, 'version': None, 'latest_version': None, 'schema': None, 'type': 'command', 'display_name': 'red_island_t1r4byfbcd', 'is_deterministic': True, 'inputs': {}, 'outputs': {'default': {'type': 'uri_folder', 'path': 'azureml://datastores/workspaceartifactstore/ExperimentRun/dcid.red_island_t1r4byfbcd', 'mode': 'rw_mount'}}, 'yaml_str': None, 'other_parameter': {'status': 'Starting', 'parameters': {}}}), 'referenced_control_flow_node_instance_id': None, 'kwargs': {'services': {'Tracking': {'endpoint': 'azureml://eastus2euap.api.azureml.ms/mlflow/v1.0/subscriptions/381b38e9-9840-4719-a5a0-61d9585e1e91/resourceGroups/daweil_canary/providers/Microsoft.MachineLearningServices/workspaces/daweil_canary?', 'type': 'Tracking'}, 'Studio': {'endpoint': 'https://ml.azure.com/runs/red_island_t1r4byfbcd?wsid=/subscriptions/381b38e9-9840-4719-a5a0-61d9585e1e91/resourcegroups/daweil_canary/workspaces/daweil_canary&tid=72f988bf-86f1-41af-91ab-2d7cd011db47', 'type': 'Studio'}}, 'status': 'Starting', 'creation_context': <azure.ai.ml.entities._system_data.SystemData object at 0x7f49d904ff10>}, 'instance_id': '023df4f9-148b-471e-a6f7-2a10817cba11', 'source': 'BUILDER', 'validate_required_input_not_provided': True, 'limits': None, 'identity': None, 'distribution': <azure.ai.ml.entities._job.distribution.RayDistribution object at 0x7f49d904f760>, 'environment_variables': {}, 'environment': 'CliV2AnonymousEnvironment:d4ef9d1e763196942ef327f633eb1dab', 'resources': {'instance_count': 2, 'instance_type': 'Standard_DS3_v2', 'shm_size': '2g'}, 'queue_settings': {'job_tier': 'standard'}, 'swept': False})",
            "text/html": "<table style=\"width:100%\"><tr><th>Experiment</th><th>Name</th><th>Type</th><th>Status</th><th>Details Page</th></tr><tr><td>mnist_pytorch</td><td>red_island_t1r4byfbcd</td><td>command</td><td>Starting</td><td><a href=\"https://ml.azure.com/runs/red_island_t1r4byfbcd?wsid=/subscriptions/381b38e9-9840-4719-a5a0-61d9585e1e91/resourcegroups/daweil_canary/workspaces/daweil_canary&amp;tid=72f988bf-86f1-41af-91ab-2d7cd011db47\" target=\"_blank\" rel=\"noopener\">Link to Azure Machine Learning studio</a></td></tr></table>"
          },
          "metadata": {}
        }
      ],
      "execution_count": 8,
      "metadata": {
        "gather": {
          "logged": 1682559062811
        },
        "jupyter": {
          "outputs_hidden": false,
          "source_hidden": false
        },
        "nteract": {
          "transient": {
            "deleting": false
          }
        }
      }
    },
    {
      "attachments": {},
      "cell_type": "markdown",
      "source": [
        "## Submit the job through Azure ML CLI\n",
        "\n",
        "We can also submit the same job through Azure ML CLI by running `az ml job create`. More info about how to submit job through CLI could be found [here](https://learn.microsoft.com/en-us/azure/machine-learning/how-to-train-model?view=azureml-api-2&tabs=azurecli#4-submit-the-training-job)\n",
        "\n",
        "Here's the equivalent yaml file:\n",
        "```yaml\n",
        "$schema: https://azuremlschemas.azureedge.net/latest/commandJob.schema.json\n",
        "experiment_name: mnist_pytorch\n",
        "code: ./src\n",
        "command: python mnist_pytorch.py;\n",
        "environment:\n",
        "  build:\n",
        "    path: ../../docker\n",
        "# compute: azureml:cpu-cluster\n",
        "resources:\n",
        "  instance_type: Standard_DS3_v2\n",
        "  instance_count: 2\n",
        "distribution:\n",
        "  type: ray\n",
        "  # port: 6379\n",
        "  # include_dashboard: True\n",
        "  # dashboard_port: 8265\n",
        "  # head_node_additional_args: \"--verbose\"\n",
        "  # worker_node_additional_args: \"--verbose\"\n",
        "```"
      ],
      "metadata": {
        "nteract": {
          "transient": {
            "deleting": false
          }
        }
      }
    },
    {
      "cell_type": "code",
      "source": [],
      "outputs": [],
      "execution_count": null,
      "metadata": {
        "jupyter": {
          "outputs_hidden": false,
          "source_hidden": false
        },
        "nteract": {
          "transient": {
            "deleting": false
          }
        }
      }
    }
  ],
  "metadata": {
    "kernel_info": {
      "name": "python38-azureml-pt-tf"
    },
    "kernelspec": {
      "name": "python38-azureml-pt-tf",
      "language": "python",
      "display_name": "Python 3.8 - Pytorch and Tensorflow"
    },
    "language_info": {
      "name": "python",
      "version": "3.8.5",
      "mimetype": "text/x-python",
      "codemirror_mode": {
        "name": "ipython",
        "version": 3
      },
      "pygments_lexer": "ipython3",
      "nbconvert_exporter": "python",
      "file_extension": ".py"
    },
    "microsoft": {
      "host": {
        "AzureML": {
          "notebookHasBeenCompleted": true
        }
      },
      "ms_spell_check": {
        "ms_spell_check_language": "en"
      }
    },
    "nteract": {
      "version": "nteract-front-end@1.0.0"
    }
  },
  "nbformat": 4,
  "nbformat_minor": 2
}