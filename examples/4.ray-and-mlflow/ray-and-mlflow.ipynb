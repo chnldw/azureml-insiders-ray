{
  "cells": [
    {
      "cell_type": "markdown",
      "source": [
        "# Ray and MLflow\n",
        "\n",
        "[MLflow](https://www.mlflow.org/) is an open-source framework that's designed to manage the complete machine learning lifecycle. Its ability to train and serve models on different platforms allows you to use a consistent set of tools regardless of where your experiments are running: locally on your computer, on a remote compute target, on a virtual machine, or on an Azure Machine Learning compute instance.\n",
        "\n",
        "Azure Machine Learning workspaces are **MLflow-compatible**, which means you can use Azure Machine Learning workspaces in the same way that you'd use an MLflow server. See [MLflow and Azure Machine Learning](https://learn.microsoft.com/en-us/azure/machine-learning/concept-mlflow?view=azureml-api-2&viewFallbackFrom=azureml-api-1) for all supported MLflow and Azure Machine Learning functionality including MLflow Project support (preview) and model deployment.\n",
        "\n",
        "\n",
        "In [ray-on-compute-cluster](../2.ray-on-compute-cluster/ray-on-compute-cluster.ipynb), we learned how to submit a distributed training job with Ray cluster enabled onto multi-nodes Azure ML compute clusters.\n",
        "\n",
        "In this notebook, we would show an example of Ray Tune, MLflow and Azure ML integration.\n",
        "\n"
      ],
      "metadata": {
        "nteract": {
          "transient": {
            "deleting": false
          }
        }
      }
    },
    {
      "cell_type": "markdown",
      "source": [
        "## Import required libraries"
      ],
      "metadata": {
        "nteract": {
          "transient": {
            "deleting": false
          }
        }
      }
    },
    {
      "cell_type": "code",
      "source": [
        "# import required libraries\n",
        "from azure.identity import DefaultAzureCredential\n",
        "\n",
        "from azure.ai.ml import MLClient, command\n",
        "from azure.ai.ml.entities import Environment, BuildContext"
      ],
      "outputs": [],
      "execution_count": 1,
      "metadata": {
        "gather": {
          "logged": 1682656503212
        },
        "jupyter": {
          "outputs_hidden": false,
          "source_hidden": false
        },
        "nteract": {
          "transient": {
            "deleting": false
          }
        }
      }
    },
    {
      "cell_type": "markdown",
      "source": [
        "## Connect to workspace using DefaultAzureCredential\n",
        "`DefaultAzureCredential` should be capable of handling most Azure SDK authentication scenarios. \n",
        "\n",
        "Reference for more available credentials if it does not work for you: [azure-identity reference doc](https://docs.microsoft.com/en-us/python/api/azure-identity/azure.identity?view=azure-python)."
      ],
      "metadata": {
        "nteract": {
          "transient": {
            "deleting": false
          }
        }
      }
    },
    {
      "cell_type": "code",
      "source": [
        "credential = DefaultAzureCredential()\n",
        "ml_client = None\n",
        "try:\n",
        "    ml_client = MLClient.from_config(credential)\n",
        "    workspace = ml_client.workspace_name\n",
        "    subscription_id = ml_client.workspaces.get(workspace).id.split(\"/\")[2]\n",
        "    resource_group = ml_client.workspaces.get(workspace).resource_group\n",
        "except Exception as ex:\n",
        "    print(ex)\n",
        "    # Enter details of your AML workspace\n",
        "    subscription_id = \"<SUBSCRIPTION_ID>\"\n",
        "    resource_group = \"<RESOURCE_GROUP>\"\n",
        "    workspace = \"<AML_WORKSPACE_NAME>\"\n",
        "    ml_client = MLClient(credential, subscription_id, resource_group, workspace)"
      ],
      "outputs": [
        {
          "output_type": "stream",
          "name": "stderr",
          "text": "Found the config file in: /config.json\nClass FeatureStoreOperations: This is an experimental class, and may change at any time. Please see https://aka.ms/azuremlexperimental for more information.\nClass FeatureSetOperations: This is an experimental class, and may change at any time. Please see https://aka.ms/azuremlexperimental for more information.\nClass FeatureStoreEntityOperations: This is an experimental class, and may change at any time. Please see https://aka.ms/azuremlexperimental for more information.\n"
        }
      ],
      "execution_count": 2,
      "metadata": {
        "gather": {
          "logged": 1682656505191
        },
        "jupyter": {
          "outputs_hidden": false,
          "source_hidden": false
        },
        "nteract": {
          "transient": {
            "deleting": false
          }
        }
      }
    },
    {
      "cell_type": "markdown",
      "source": [
        "## Build training environment\r\n",
        "\r\n",
        "We would use Azure ML image and a conda yaml file to build an environment. More info about how to build environment could be found [here](https://learn.microsoft.com/en-us/azure/machine-learning/how-to-manage-environments-v2?view=azureml-api-2&tabs=python).\r\n",
        "\r\n",
        "**`azureml-mlflow`** package is required for MLflow and Azure ML integration."
      ],
      "metadata": {
        "nteract": {
          "transient": {
            "deleting": false
          }
        }
      }
    },
    {
      "cell_type": "code",
      "source": [
        "import yaml\r\n",
        "from platform import python_version\r\n",
        "\r\n",
        "# Get and set python and ray version\r\n",
        "python_version = python_version()\r\n",
        "ray_version = '2.4.0'\r\n",
        "\r\n",
        "conda = yaml.load(f\"\"\"\r\n",
        "    name: ray-environment\r\n",
        "    dependencies:\r\n",
        "    - python={python_version}\r\n",
        "    - pip:\r\n",
        "        - ray[default, tune]=={ray_version}\r\n",
        "        - azureml-mlflow\r\n",
        "        - torch\r\n",
        "        - torchvision\r\n",
        "\"\"\", Loader=yaml.CLoader)\r\n",
        "\r\n",
        "# Write to conda.yml file\r\n",
        "with open('conda.yml', 'w') as conda_file:\r\n",
        "    yaml.dump(conda, conda_file, default_flow_style=False)\r\n",
        "\r\n",
        "\r\n",
        "# Build environment using AzureML image and conda.yml we built\r\n",
        "environment=Environment(\r\n",
        "    image=\"mcr.microsoft.com/azureml/openmpi4.1.0-ubuntu20.04\",\r\n",
        "    conda_file=\"conda.yml\"\r\n",
        ")"
      ],
      "outputs": [],
      "execution_count": 3,
      "metadata": {
        "jupyter": {
          "source_hidden": false,
          "outputs_hidden": false
        },
        "nteract": {
          "transient": {
            "deleting": false
          }
        },
        "gather": {
          "logged": 1682656505380
        }
      }
    },
    {
      "cell_type": "markdown",
      "source": [
        "## Enable `MLflow` tracking\r\n",
        "\r\n",
        "Ray support multiple integration with `MLflow`. We would use `MLflowLoggerCallback` with Ray Tune here.\r\n",
        "\r\n",
        "Follow [Use MLflow with Tune](https://docs.ray.io/en/latest/tune/examples/tune-mlflow.html) document to modify the training script.\r\n",
        "\r\n",
        "In this example, we would add each trial as nested run of the Command job we are going to submit.\r\n",
        "\r\n",
        "Here's the modification we need to make to enable `MLflow` tracking.\r\n",
        "\r\n",
        "```python\r\n",
        "from ray.air.integrations.mlflow import MLflowLoggerCallback\r\n",
        "import mlflow\r\n",
        "from mlflow.utils.mlflow_tags import MLFLOW_PARENT_RUN_ID\r\n",
        "\r\n",
        "# get or start mlflow run.\r\n",
        "current_run = mlflow.active_run()\r\n",
        "if(current_run is None):\r\n",
        "    current_run = mlflow.start_run()\r\n",
        "\r\n",
        "tuner = tune.Tuner(\r\n",
        "    run_config=air.RunConfig(\r\n",
        "        # Enable MLflow by using MLflowLoggerCallback\r\n",
        "        callbacks=[MLflowLoggerCallback(\r\n",
        "            tags={\r\n",
        "                MLFLOW_PARENT_RUN_ID: current_run.info.run_id # each trial would be added as nested run.\r\n",
        "            })],\r\n",
        "        # ... other run config\r\n",
        "    ),\r\n",
        "    # .. other configs\r\n",
        ")\r\n",
        "```python"
      ],
      "metadata": {
        "nteract": {
          "transient": {
            "deleting": false
          }
        }
      }
    },
    {
      "cell_type": "markdown",
      "source": [
        "## Configure and Run Command\n",
        "\n",
        "In this section we will be configuring and running a distributed training `Command` job.\n",
        "\n",
        "The `command` allows user to configure the following key aspects.\n",
        "- `code` - This is the path where the code to run the command is located.\n",
        "- `command` - This is the command that needs to be run. In this example, we would execute `mnist_pytorch.py` we downloaded from [ray github repo](https://github.com/ray-project/ray/blob/master/python/ray/tune/examples/mnist_pytorch.py).\n",
        "- `environment` - This is the environment needed for the command to run. In this example, we would use the environment we just build.\n",
        "- `compute` - The compute on which the command will run. In this example, compute is not specified which means it would use `serverless` compute.\n",
        "- `instance_type` - VMSize of the `serverless` compute. In this example, we would use `Standard_DS3_v2` cpu cluster.\n",
        "- `instance_count` - The number of nodes to use for the job. In this example, we would scale `2` nodes.\n",
        "- `shm_size` - Size of the docker container's shared memory block. \n",
        "- `distribution` - Distribution configuration for distributed training scenarios. In this example, we would set it to `ray`. Azure ML job engine would setup Ray cluster automatically.\n",
        "  - `port` - \\[Optional\\] The port of the head ray process. Default is `6379`\n",
        "  - `address` - \\[Optional\\] The address of Ray head node.\n",
        "  - `include_dashboard` - \\[Optional\\] Provide this argument to start the Ray dashboard GUI. Default is `True`\n",
        "  - `dashboard_port` - \\[Optional\\] The port to bind the dashboard server to. Default is `8265`\n",
        "  - `head_node_additional_args` - \\[Optional\\] Additional arguments passed to ray start in head node.\n",
        "  - `worker_node_additional_args` - \\[Optional\\] Additional arguments passed to ray start in worker node."
      ],
      "metadata": {
        "nteract": {
          "transient": {
            "deleting": false
          }
        }
      }
    },
    {
      "cell_type": "code",
      "source": [
        "job = command(\n",
        "    experiment_name=\"mnist_pytorch_mlflow\",\n",
        "    code=\"./src\",  # local path where the code is stored\n",
        "    command=\"python mnist_pytorch_mlflow.py;\",\n",
        "    environment=Environment(\n",
        "        image=\"mcr.microsoft.com/azureml/openmpi4.1.0-ubuntu20.04\",\n",
        "        conda_file=\"conda.yml\"\n",
        "    ),\n",
        "    # compute=\"azureml:cpu-cluster\",\n",
        "    instance_type=\"Standard_DS3_v2\",\n",
        "    instance_count=2,  # In this, only 2 node cluster was created.\n",
        "    shm_size=\"4g\", # ~30% of 14G node memory\n",
        "    distribution={\n",
        "        \"type\": \"ray\",\n",
        "        # \"port\": 6379, # [Optional] The port of the head ray process.\n",
        "        # \"include_dashboard\": True, # [Optional] The port of the head ray process.\n",
        "        # \"dashboard_port\": 8265, # [Optional] The port of the head ray process.\n",
        "        # \"head_node_additional_args\": \"--verbose\", # [Optional] Additional arguments passed to ray start in head node.\n",
        "        # \"worker_node_additional_args\": \"--verbose\", # [Optional] Additional arguments passed to ray start in head node.\n",
        "    },\n",
        ")"
      ],
      "outputs": [
        {
          "output_type": "stream",
          "name": "stderr",
          "text": "Field 'None': This is an experimental field, and may change at any time. Please see https://aka.ms/azuremlexperimental for more information.\nClass RayDistributionSchema: This is an experimental class, and may change at any time. Please see https://aka.ms/azuremlexperimental for more information.\nClass RayDistribution: This is an experimental class, and may change at any time. Please see https://aka.ms/azuremlexperimental for more information.\n"
        }
      ],
      "execution_count": 4,
      "metadata": {
        "gather": {
          "logged": 1682656505515
        },
        "jupyter": {
          "outputs_hidden": false,
          "source_hidden": false
        },
        "nteract": {
          "transient": {
            "deleting": false
          }
        }
      }
    },
    {
      "cell_type": "markdown",
      "source": [
        "## Submit the job"
      ],
      "metadata": {
        "nteract": {
          "transient": {
            "deleting": false
          }
        }
      }
    },
    {
      "cell_type": "code",
      "source": [
        "active_job = ml_client.jobs.create_or_update(job)\n",
        "\n",
        "active_job"
      ],
      "outputs": [
        {
          "output_type": "stream",
          "name": "stderr",
          "text": "Field 'distribution': This is an experimental field, and may change at any time. Please see https://aka.ms/azuremlexperimental for more information.\n\u001b[32mUploading src (0.01 MBs): 100%|██████████| 5724/5724 [00:00<00:00, 134445.47it/s]\n\u001b[39m\n\n"
        },
        {
          "output_type": "execute_result",
          "execution_count": 5,
          "data": {
            "text/plain": "Command({'parameters': {}, 'init': False, 'name': 'silver_glass_qnrngj0ysj', 'type': 'command', 'status': 'Starting', 'log_files': None, 'description': None, 'tags': {}, 'properties': {'_azureml.ComputeTargetType': 'amlctrain', 'ContentSnapshotId': 'eaa0be77-1f6c-4c6f-9942-624d66e1b57a'}, 'print_as_yaml': True, 'id': '/subscriptions/381b38e9-9840-4719-a5a0-61d9585e1e91/resourceGroups/daweil_canary/providers/Microsoft.MachineLearningServices/workspaces/daweil_canary/jobs/silver_glass_qnrngj0ysj', 'Resource__source_path': None, 'base_path': '/mnt/batch/tasks/shared/LS_root/mounts/clusters/ray/code/Users/daweil/ray/azureml-insiders/examples/4.ray-and-mlflow', 'creation_context': <azure.ai.ml.entities._system_data.SystemData object at 0x7f7c454a7f10>, 'serialize': <msrest.serialization.Serializer object at 0x7f7c454a7fd0>, 'allowed_keys': {}, 'key_restriction': False, 'logger': <Logger attr_dict (WARNING)>, 'display_name': 'silver_glass_qnrngj0ysj', 'experiment_name': 'mnist_pytorch_mlflow', 'compute': None, 'services': {'Tracking': {'endpoint': 'azureml://eastus2euap.api.azureml.ms/mlflow/v1.0/subscriptions/381b38e9-9840-4719-a5a0-61d9585e1e91/resourceGroups/daweil_canary/providers/Microsoft.MachineLearningServices/workspaces/daweil_canary?', 'type': 'Tracking'}, 'Studio': {'endpoint': 'https://ml.azure.com/runs/silver_glass_qnrngj0ysj?wsid=/subscriptions/381b38e9-9840-4719-a5a0-61d9585e1e91/resourcegroups/daweil_canary/workspaces/daweil_canary&tid=72f988bf-86f1-41af-91ab-2d7cd011db47', 'type': 'Studio'}}, 'comment': None, 'job_inputs': {}, 'job_outputs': {'default': {'type': 'uri_folder', 'path': 'azureml://datastores/workspaceartifactstore/ExperimentRun/dcid.silver_glass_qnrngj0ysj', 'mode': 'rw_mount'}}, 'inputs': {}, 'outputs': {'default': <azure.ai.ml.entities._job.pipeline._io.base.NodeOutput object at 0x7f7c454a73a0>}, 'component': CommandComponent({'intellectual_property': None, 'auto_increment_version': True, 'source': 'REMOTE.WORKSPACE.JOB', 'is_anonymous': False, 'name': 'silver_glass_qnrngj0ysj', 'description': None, 'tags': {}, 'properties': {}, 'print_as_yaml': True, 'id': None, 'Resource__source_path': None, 'base_path': PosixPath('.'), 'creation_context': <azure.ai.ml.entities._system_data.SystemData object at 0x7f7c454a7f10>, 'serialize': <msrest.serialization.Serializer object at 0x7f7c454a7e50>, 'command': 'python mnist_pytorch_mlflow.py;', 'code': '/subscriptions/381b38e9-9840-4719-a5a0-61d9585e1e91/resourceGroups/daweil_canary/providers/Microsoft.MachineLearningServices/workspaces/daweil_canary/codes/b54287ea-653d-4b59-881d-0b207a27ea4d/versions/1', 'environment_variables': {}, 'environment': '/subscriptions/381b38e9-9840-4719-a5a0-61d9585e1e91/resourceGroups/daweil_canary/providers/Microsoft.MachineLearningServices/workspaces/daweil_canary/environments/CliV2AnonymousEnvironment/versions/2fdaa870ca6f41761f4b121e77c075c9', 'distribution': <azure.ai.ml.entities._job.distribution.RayDistribution object at 0x7f7c454a7580>, 'resources': None, 'queue_settings': None, 'version': None, 'latest_version': None, 'schema': None, 'type': 'command', 'display_name': 'silver_glass_qnrngj0ysj', 'is_deterministic': True, 'inputs': {}, 'outputs': {'default': {'type': 'uri_folder', 'path': 'azureml://datastores/workspaceartifactstore/ExperimentRun/dcid.silver_glass_qnrngj0ysj', 'mode': 'rw_mount'}}, 'yaml_str': None, 'other_parameter': {'status': 'Starting', 'parameters': {}}}), 'referenced_control_flow_node_instance_id': None, 'kwargs': {'services': {'Tracking': {'endpoint': 'azureml://eastus2euap.api.azureml.ms/mlflow/v1.0/subscriptions/381b38e9-9840-4719-a5a0-61d9585e1e91/resourceGroups/daweil_canary/providers/Microsoft.MachineLearningServices/workspaces/daweil_canary?', 'type': 'Tracking'}, 'Studio': {'endpoint': 'https://ml.azure.com/runs/silver_glass_qnrngj0ysj?wsid=/subscriptions/381b38e9-9840-4719-a5a0-61d9585e1e91/resourcegroups/daweil_canary/workspaces/daweil_canary&tid=72f988bf-86f1-41af-91ab-2d7cd011db47', 'type': 'Studio'}}, 'status': 'Starting', 'creation_context': <azure.ai.ml.entities._system_data.SystemData object at 0x7f7c454a7f10>}, 'instance_id': 'afb32934-f6f6-46ae-ab69-78670bb87d1f', 'source': 'BUILDER', 'validate_required_input_not_provided': True, 'limits': None, 'identity': None, 'distribution': <azure.ai.ml.entities._job.distribution.RayDistribution object at 0x7f7c454a7580>, 'environment_variables': {}, 'environment': 'CliV2AnonymousEnvironment:2fdaa870ca6f41761f4b121e77c075c9', 'resources': {'instance_count': 2, 'instance_type': 'Standard_DS3_v2', 'shm_size': '4g'}, 'queue_settings': {'job_tier': 'standard'}, 'swept': False})",
            "text/html": "<table style=\"width:100%\"><tr><th>Experiment</th><th>Name</th><th>Type</th><th>Status</th><th>Details Page</th></tr><tr><td>mnist_pytorch_mlflow</td><td>silver_glass_qnrngj0ysj</td><td>command</td><td>Starting</td><td><a href=\"https://ml.azure.com/runs/silver_glass_qnrngj0ysj?wsid=/subscriptions/381b38e9-9840-4719-a5a0-61d9585e1e91/resourcegroups/daweil_canary/workspaces/daweil_canary&amp;tid=72f988bf-86f1-41af-91ab-2d7cd011db47\" target=\"_blank\" rel=\"noopener\">Link to Azure Machine Learning studio</a></td></tr></table>"
          },
          "metadata": {}
        }
      ],
      "execution_count": 5,
      "metadata": {
        "gather": {
          "logged": 1682656511173
        },
        "jupyter": {
          "outputs_hidden": false,
          "source_hidden": false
        },
        "nteract": {
          "transient": {
            "deleting": false
          }
        }
      }
    },
    {
      "cell_type": "markdown",
      "source": [
        "## Use Azure ML Studio to explorer MLflow runs\r\n",
        "\r\n",
        "We can use [Azure ML Studio](https://ml.azure.com/) to explorer MLflow runs. All trials are displayed inside of the command job's **child jobs** tab.\r\n",
        "![Using Studio to explorer MFflow runs](./assets/mlflow_studio.png)"
      ],
      "metadata": {
        "nteract": {
          "transient": {
            "deleting": false
          }
        }
      }
    }
  ],
  "metadata": {
    "kernel_info": {
      "name": "python38-azureml-pt-tf"
    },
    "kernelspec": {
      "name": "python38-azureml-pt-tf",
      "language": "python",
      "display_name": "Python 3.8 - Pytorch and Tensorflow"
    },
    "language_info": {
      "name": "python",
      "version": "3.8.5",
      "mimetype": "text/x-python",
      "codemirror_mode": {
        "name": "ipython",
        "version": 3
      },
      "pygments_lexer": "ipython3",
      "nbconvert_exporter": "python",
      "file_extension": ".py"
    },
    "microsoft": {
      "host": {
        "AzureML": {
          "notebookHasBeenCompleted": true
        }
      },
      "ms_spell_check": {
        "ms_spell_check_language": "en"
      }
    },
    "nteract": {
      "version": "nteract-front-end@1.0.0"
    }
  },
  "nbformat": 4,
  "nbformat_minor": 2
}